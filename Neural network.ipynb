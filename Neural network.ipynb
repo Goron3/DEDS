{
 "cells": [
  {
   "cell_type": "code",
   "execution_count": 9,
   "metadata": {},
   "outputs": [],
   "source": [
    "import pandas as pd\n",
    "import numpy as np\n",
    "import tensorflow.compat.v1 as tf\n",
    "tf.disable_v2_behavior()"
   ]
  },
  {
   "cell_type": "code",
   "execution_count": 10,
   "metadata": {},
   "outputs": [
    {
     "name": "stdout",
     "output_type": "stream",
     "text": [
      "Output shape: (?, 1)\n"
     ]
    }
   ],
   "source": [
    "# Definieer de grootte van de invoer, verborgen laag en uitvoer\n",
    "input_size = 4\n",
    "hidden_layer_size = 8  # Het aantal nodes in de verborgen laag, kan worden aangepast\n",
    "output_size = 1\n",
    "\n",
    "# Maak het neuraal netwerk\n",
    "inputs, targets, outputs = create_neural_network(input_size, hidden_layer_size, output_size)\n",
    "\n",
    "# Feedforward berekenen\n",
    "loss = feedforward(inputs, targets, outputs)\n",
    "\n",
    "# Outputshape tonen voor controle\n",
    "print(\"Output shape:\", outputs.shape)"
   ]
  },
  {
   "cell_type": "code",
   "execution_count": 11,
   "metadata": {},
   "outputs": [],
   "source": [
    "# Nepverkoopgegevens genereren\n",
    "num_samples = 1000\n",
    "num_features = 4\n",
    "sales_data = np.random.rand(num_samples, num_features)  # Nepverkoopgegevens\n",
    "sales_targets = np.random.rand(num_samples, 1)  # Nepdoelwaarden\n"
   ]
  },
  {
   "cell_type": "code",
   "execution_count": 12,
   "metadata": {},
   "outputs": [],
   "source": [
    "def create_neural_network(input_size, hidden_layer_size, output_size):\n",
    "    # Definieer de placeholders voor de invoer- en uitvoergegevens\n",
    "    inputs = tf.placeholder(tf.float32, shape=[None, input_size], name='inputs')\n",
    "    targets = tf.placeholder(tf.float32, shape=[None, output_size], name='targets')\n",
    "\n",
    "    # Definieer de gewichten en biases voor de eerste laag (verborgen laag)\n",
    "    hidden_weights = tf.Variable(tf.random_normal([input_size, hidden_layer_size]), name='hidden_weights')\n",
    "    hidden_biases = tf.Variable(tf.zeros([hidden_layer_size]), name='hidden_biases')\n",
    "    \n",
    "    # Bereken de activaties van de verborgen laag\n",
    "    hidden_outputs = tf.nn.relu(tf.matmul(inputs, hidden_weights) + hidden_biases)\n",
    "\n",
    "    # Definieer de gewichten en biases voor de tweede laag (uitvoerlaag)\n",
    "    output_weights = tf.Variable(tf.random_normal([hidden_layer_size, output_size]), name='output_weights')\n",
    "    output_biases = tf.Variable(tf.zeros([output_size]), name='output_biases')\n",
    "    \n",
    "    # Bereken de uitvoer van het netwerk\n",
    "    outputs = tf.matmul(hidden_outputs, output_weights) + output_biases\n",
    "\n",
    "    return inputs, targets, outputs"
   ]
  },
  {
   "cell_type": "code",
   "execution_count": 13,
   "metadata": {},
   "outputs": [],
   "source": [
    "def feedforward(inputs, targets, outputs):\n",
    "    # Bereken de fout tussen voorspelde uitvoer en werkelijke uitvoer\n",
    "    loss = tf.reduce_mean(tf.square(outputs - targets), name='loss')\n",
    "\n",
    "    return loss"
   ]
  },
  {
   "cell_type": "code",
   "execution_count": 21,
   "metadata": {},
   "outputs": [
    {
     "name": "stdout",
     "output_type": "stream",
     "text": [
      "Fout tussen voorspelde uitvoer en werkelijke uitvoer: 18.695848\n"
     ]
    }
   ],
   "source": [
    "# Voer de berekeningen uit in een TensorFlow-sessie\n",
    "with tf.Session() as sess:\n",
    "    sess.run(tf.global_variables_initializer())  # Initialiseer variabelen\n",
    "    input_feed = {inputs: sales_data, targets: sales_targets}\n",
    "    loss_result = sess.run(loss, feed_dict=input_feed)\n",
    "\n",
    "print(\"Fout tussen voorspelde uitvoer en werkelijke uitvoer:\", loss_result)"
   ]
  }
 ],
 "metadata": {
  "kernelspec": {
   "display_name": "Python 3",
   "language": "python",
   "name": "python3"
  },
  "language_info": {
   "codemirror_mode": {
    "name": "ipython",
    "version": 3
   },
   "file_extension": ".py",
   "mimetype": "text/x-python",
   "name": "python",
   "nbconvert_exporter": "python",
   "pygments_lexer": "ipython3",
   "version": "3.12.2"
  }
 },
 "nbformat": 4,
 "nbformat_minor": 2
}
