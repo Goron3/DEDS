{
 "cells": [
  {
   "cell_type": "markdown",
   "metadata": {},
   "source": [
    "# Week 9-1: Unsupervised Machine Learning"
   ]
  },
  {
   "cell_type": "markdown",
   "metadata": {},
   "source": [
    "## Bibliotheken importeren"
   ]
  },
  {
   "cell_type": "code",
   "execution_count": null,
   "metadata": {},
   "outputs": [],
   "source": [
    "import pandas as pd\n",
    "from sklearn.cluster import KMeans\n",
    "import math\n",
    "import matplotlib.pyplot as plt\n",
    "import warnings\n",
    "import numpy as np\n",
    "warnings.simplefilter('ignore')\n",
    "import sqlite3\n",
    "go_sales_connect = sqlite3.connect('go_sales.sqlite')\n",
    "go_crm_connect = sqlite3.connect('go_crm.sqlite')"
   ]
  },
  {
   "cell_type": "markdown",
   "metadata": {},
   "source": [
    "## Data inlezen en kolommen selecteren"
   ]
  },
  {
   "cell_type": "code",
   "execution_count": null,
   "metadata": {},
   "outputs": [],
   "source": [
    "df = pd.read_sql_query(\"SELECT sales_branch.SALES_BRANCH_CODE, CITY, REGION, sales_branch.COUNTRY_CODE, COUNT(ORDER_NUMBER) from sales_branch join country on country.COUNTRY_CODE = sales_branch.COUNTRY_CODE join order_header on order_header.SALES_BRANCH_CODE = sales_branch.SALES_BRANCH_CODE GROUP BY sales_branch.SALES_BRANCH_CODE\", go_sales_connect)\n",
    "df2 = pd.read_sql_query(\"SELECT country_code, sales_territory_code from country\", go_crm_connect)\n",
    "df = pd.merge(df, df2, on='COUNTRY_CODE', how='left')\n",
    "df"
   ]
  },
  {
   "cell_type": "code",
   "execution_count": null,
   "metadata": {},
   "outputs": [],
   "source": [
    "# df['ADDRESS1'] = df['ADDRESS1'].astype(str)\n",
    "# df.dtypes"
   ]
  },
  {
   "cell_type": "markdown",
   "metadata": {},
   "source": [
    "## One-hot encoding van onafhankelijke niet-numerieke variabelen"
   ]
  },
  {
   "cell_type": "code",
   "execution_count": null,
   "metadata": {},
   "outputs": [],
   "source": [
    "# df['Pclass'] = df['Pclass'].astype(str)\n",
    "# df.dtypes"
   ]
  },
  {
   "cell_type": "code",
   "execution_count": null,
   "metadata": {},
   "outputs": [],
   "source": [
    "dummies_df1 = pd.get_dummies(df.loc[:, [\"SALES_BRANCH_CODE\",\t\"CITY\",\t\"REGION\",\t\"COUNTRY_CODE\",\t\"COUNT(ORDER_NUMBER)\",\t\"SALES_TERRITORY_CODE\"]])\n",
    "dummies_df1"
   ]
  },
  {
   "cell_type": "code",
   "execution_count": null,
   "metadata": {},
   "outputs": [],
   "source": [
    "# df = pd.concat([df, dummies_dataframe], axis = 1)\n",
    "# df = df.drop(['Sex'], axis = 1)\n",
    "# df = df.loc[:, ['Pclass_1', 'Pclass_2', 'Pclass_3', 'Sex_female', 'Sex_male', 'Age', 'Survived']]\n",
    "# df"
   ]
  },
  {
   "cell_type": "markdown",
   "metadata": {},
   "source": [
    "## Clusteringmodel bouwen met 2 dimensies"
   ]
  },
  {
   "cell_type": "code",
   "execution_count": null,
   "metadata": {},
   "outputs": [],
   "source": [
    "# df_2d = df.loc[:, ['Age', 'Survived']]\n",
    "# df_2d"
   ]
  },
  {
   "cell_type": "code",
   "execution_count": null,
   "metadata": {},
   "outputs": [],
   "source": [
    "kmeans = KMeans(n_clusters = 5, random_state = 42)\n",
    "kmeans.fit_predict(dummies_df1)"
   ]
  },
  {
   "cell_type": "code",
   "execution_count": null,
   "metadata": {},
   "outputs": [],
   "source": [
    "kmeans_centra = pd.DataFrame(kmeans.cluster_centers_)\n",
    "kmeans_centra"
   ]
  },
  {
   "cell_type": "code",
   "execution_count": null,
   "metadata": {},
   "outputs": [],
   "source": [
    "for i in range(len(kmeans_centra.columns)):\n",
    "    kmeans_centra = kmeans_centra.rename(columns = {i : f'{dummies_df1.columns[i]}'})\n",
    "    \n",
    "kmeans_centra"
   ]
  },
  {
   "cell_type": "code",
   "execution_count": null,
   "metadata": {},
   "outputs": [],
   "source": [
    "for src_index, _ in dummies_df1.iterrows():\n",
    "    euclidian_distances = dict()\n",
    "    print(f\"Afstand van bronindex {src_index} tot...\")\n",
    "\n",
    "    for centrumindex, _ in kmeans_centra.iterrows():\n",
    "        print(f\"\\tCentrumindex {centrumindex}:\")\n",
    "        euclidian_sum = 0\n",
    "\n",
    "        for column_name in kmeans_centra.columns:\n",
    "            current_difference = dummies_df1.at[src_index, column_name] - kmeans_centra.at[centrumindex, column_name]\n",
    "            print(f'\\t\\t{dummies_df1.at[src_index, column_name]} - {kmeans_centra.at[centrumindex, column_name]} = {current_difference}')\n",
    "            euclidian_sum += current_difference ** 2\n",
    "        \n",
    "        print(f'\\tTotale euclidische som: {euclidian_sum}')\n",
    "        euclidian_distance = math.sqrt(euclidian_sum)\n",
    "        print(f'\\tEuclidische afstand: {euclidian_distance}')\n",
    "        euclidian_distances[centrumindex] = euclidian_distance\n",
    "        print('------------------------------------------------')\n",
    "    \n",
    "    print(euclidian_distances)\n",
    "    centrum_number = min(euclidian_distances, key = euclidian_distances.get)\n",
    "    print(centrum_number)\n",
    "    dummies_df1.at[src_index, 'Centrum'] = centrum_number\n",
    "    print(\"================================================\")\n",
    "\n",
    "dummies_df1"
   ]
  },
  {
   "cell_type": "code",
   "execution_count": null,
   "metadata": {},
   "outputs": [],
   "source": [
    "# Interclusterafstand\n",
    "for i in kmeans_centra.index:\n",
    "    for j in kmeans_centra.index:\n",
    "        if i != j:\n",
    "            diff = kmeans_centra.loc[i] - kmeans_centra.loc[j]\n",
    "            dist = np.sqrt(np.sum(diff**2))\n",
    "            print(f\"Interclusterafstand tussen cluster {i} en cluster {j}: {dist}\")\n",
    "\n",
    "# Intraclusterafstand\n",
    "for i in kmeans_centra.index:\n",
    "    cluster_points = dummies_df1[dummies_df1['Centrum'] == i]\n",
    "    distances = []\n",
    "    for _, point in cluster_points.iterrows():\n",
    "        diff = point[:-1] - kmeans_centra.loc[i]\n",
    "        dist = np.sqrt(np.sum(diff**2))\n",
    "        distances.append(dist)\n",
    "    avg_distance = np.mean(distances)\n",
    "    print(f\"Gemiddelde intraclusterafstand voor cluster {i}: {avg_distance}\")\n",
    "\n"
   ]
  },
  {
   "cell_type": "code",
   "execution_count": null,
   "metadata": {},
   "outputs": [],
   "source": [
    "plt.scatter(dummies_df1['SALES_TERRITORY_CODE_1'], dummies_df1['Centrum'], color = 'k')\n",
    "plt.show()"
   ]
  },
  {
   "cell_type": "code",
   "execution_count": null,
   "metadata": {},
   "outputs": [],
   "source": [
    "dummies_df1.groupby('Centrum', as_index = False)['Centrum'].count()"
   ]
  },
  {
   "cell_type": "markdown",
   "metadata": {},
   "source": [
    "## Clusteringmodel bouwen met meer dan 2 dimensies (alle kolommen uit de dataset)"
   ]
  },
  {
   "cell_type": "markdown",
   "metadata": {},
   "source": [
    "### Centra berekenen"
   ]
  },
  {
   "cell_type": "code",
   "execution_count": null,
   "metadata": {},
   "outputs": [],
   "source": [
    "kmeans = KMeans(n_clusters = 6, random_state = 42)\n",
    "prediction_results = kmeans.fit_predict(dummies_df1)\n",
    "prediction_results"
   ]
  },
  {
   "cell_type": "code",
   "execution_count": null,
   "metadata": {},
   "outputs": [],
   "source": [
    "df['Centrum'] = prediction_results\n",
    "df"
   ]
  },
  {
   "cell_type": "markdown",
   "metadata": {},
   "source": [
    "### De juiste centra toewijzen aan rijen uit de dataset"
   ]
  },
  {
   "cell_type": "code",
   "execution_count": null,
   "metadata": {},
   "outputs": [],
   "source": [
    "df.groupby('Centrum', as_index = False)['Centrum'].count()"
   ]
  },
  {
   "cell_type": "markdown",
   "metadata": {},
   "source": [
    "## Evalueren"
   ]
  },
  {
   "cell_type": "code",
   "execution_count": null,
   "metadata": {},
   "outputs": [],
   "source": []
  }
 ],
 "metadata": {
  "kernelspec": {
   "display_name": "Python 3",
   "language": "python",
   "name": "python3"
  },
  "language_info": {
   "codemirror_mode": {
    "name": "ipython",
    "version": 3
   },
   "file_extension": ".py",
   "mimetype": "text/x-python",
   "name": "python",
   "nbconvert_exporter": "python",
   "pygments_lexer": "ipython3",
   "version": "3.10.13"
  }
 },
 "nbformat": 4,
 "nbformat_minor": 2
}
