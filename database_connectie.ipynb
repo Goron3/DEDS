{
 "cells": [
  {
   "cell_type": "code",
   "execution_count": 1,
   "metadata": {},
   "outputs": [
    {
     "name": "stderr",
     "output_type": "stream",
     "text": [
      "C:\\Users\\Alvaro\\AppData\\Local\\Temp\\ipykernel_83212\\2168663434.py:1: DeprecationWarning: \n",
      "Pyarrow will become a required dependency of pandas in the next major release of pandas (pandas 3.0),\n",
      "(to allow more performant data types, such as the Arrow string type, and better interoperability with other libraries)\n",
      "but was not found to be installed on your system.\n",
      "If this would cause problems for you,\n",
      "please provide us feedback at https://github.com/pandas-dev/pandas/issues/54466\n",
      "        \n",
      "  import pandas as pd\n"
     ]
    }
   ],
   "source": [
    "import pandas as pd\n",
    "import pyodbc\n",
    "import sqlite3\n",
    "from datetime import datetime"
   ]
  },
  {
   "cell_type": "code",
   "execution_count": 2,
   "metadata": {},
   "outputs": [
    {
     "data": {
      "text/plain": [
       "'23/03/2024 17:22:58'"
      ]
     },
     "execution_count": 2,
     "metadata": {},
     "output_type": "execute_result"
    }
   ],
   "source": [
    "DB = {'servername': r'DESKTOP-I3QFF0F\\SQLEXPRESS', 'database': 'DWH'}\n",
    "now = datetime.now()\n",
    "sqlite_connectie = sqlite3.connect('DWH')\n",
    "export_conn = pyodbc.connect('DRIVER={SQL Server};SERVER=' + DB['servername'] + ';DATABASE=' + DB['database'] + ';Trusted_Connection=yes')\n",
    "export_cursor = export_conn.cursor()\n",
    "export_cursor\n",
    "\n",
    "\n",
    "current_time= now.strftime('%d/%m/%Y %H:%M:%S')\n",
    "current_time"
   ]
  },
  {
   "cell_type": "code",
   "execution_count": 3,
   "metadata": {},
   "outputs": [
    {
     "name": "stderr",
     "output_type": "stream",
     "text": [
      "C:\\Users\\Alvaro\\AppData\\Local\\Temp\\ipykernel_83212\\1692560567.py:3: UserWarning: pandas only supports SQLAlchemy connectable (engine/connection) or database string URI or sqlite3 DBAPI2 connection. Other DBAPI2 objects are not tested. Please consider using SQLAlchemy.\n",
      "  'SATISFACTION_SK' : [(pd.read_sql_query('SELECT MAX(SATISFACTION_SK) FROM SATISFACTION', export_conn) + 1).iloc[0, 0]],\n",
      "C:\\Users\\Alvaro\\AppData\\Local\\Temp\\ipykernel_83212\\1692560567.py:8: UserWarning: pandas only supports SQLAlchemy connectable (engine/connection) or database string URI or sqlite3 DBAPI2 connection. Other DBAPI2 objects are not tested. Please consider using SQLAlchemy.\n",
      "  'SALES_FSK': [(pd.read_sql_query('select MAX(SALES_SK) from SALES where SALES_STAFF_id = ' + str(staff_id), export_conn)).iloc[0, 0]],\n"
     ]
    },
    {
     "ename": "DataError",
     "evalue": "('22018', \"[22018] [Microsoft][ODBC SQL Server Driver][SQL Server]Conversion failed when converting the varchar value 'None' to data type int. (245) (SQLExecDirectW)\")",
     "output_type": "error",
     "traceback": [
      "\u001b[1;31m---------------------------------------------------------------------------\u001b[0m",
      "\u001b[1;31mDataError\u001b[0m                                 Traceback (most recent call last)",
      "Cell \u001b[1;32mIn[3], line 16\u001b[0m\n\u001b[0;32m     14\u001b[0m \u001b[38;5;28;01mfor\u001b[39;00m index, row \u001b[38;5;129;01min\u001b[39;00m dbobject\u001b[38;5;241m.\u001b[39miterrows():\n\u001b[0;32m     15\u001b[0m     query_satisfaction \u001b[38;5;241m=\u001b[39m \u001b[38;5;124mf\u001b[39m\u001b[38;5;124m\"\u001b[39m\u001b[38;5;124mINSERT INTO SATISFACTION VALUES (\u001b[39m\u001b[38;5;132;01m{\u001b[39;00mrow[\u001b[38;5;124m'\u001b[39m\u001b[38;5;124mSATISFACTION_SK\u001b[39m\u001b[38;5;124m'\u001b[39m]\u001b[38;5;132;01m}\u001b[39;00m\u001b[38;5;124m, \u001b[39m\u001b[38;5;132;01m{\u001b[39;00mrow[\u001b[38;5;124m'\u001b[39m\u001b[38;5;124mSATISFACTION_YEAR_number\u001b[39m\u001b[38;5;124m'\u001b[39m]\u001b[38;5;132;01m}\u001b[39;00m\u001b[38;5;124m,\u001b[39m\u001b[38;5;124m'\u001b[39m\u001b[38;5;132;01m{\u001b[39;00mrow[\u001b[38;5;124m'\u001b[39m\u001b[38;5;124mSATISFACTION_STAFF_id\u001b[39m\u001b[38;5;124m'\u001b[39m]\u001b[38;5;132;01m}\u001b[39;00m\u001b[38;5;124m'\u001b[39m\u001b[38;5;124m, \u001b[39m\u001b[38;5;124m'\u001b[39m\u001b[38;5;132;01m{\u001b[39;00mrow[\u001b[38;5;124m'\u001b[39m\u001b[38;5;124mSATISFACTION_TYPE_id\u001b[39m\u001b[38;5;124m'\u001b[39m]\u001b[38;5;132;01m}\u001b[39;00m\u001b[38;5;124m'\u001b[39m\u001b[38;5;124m, \u001b[39m\u001b[38;5;124m'\u001b[39m\u001b[38;5;132;01m{\u001b[39;00mrow[\u001b[38;5;124m'\u001b[39m\u001b[38;5;124mSATISFACTION_TYPE_description\u001b[39m\u001b[38;5;124m'\u001b[39m]\u001b[38;5;132;01m}\u001b[39;00m\u001b[38;5;124m'\u001b[39m\u001b[38;5;124m, \u001b[39m\u001b[38;5;124m'\u001b[39m\u001b[38;5;132;01m{\u001b[39;00mrow[\u001b[38;5;124m'\u001b[39m\u001b[38;5;124mSALES_FSK\u001b[39m\u001b[38;5;124m'\u001b[39m]\u001b[38;5;132;01m}\u001b[39;00m\u001b[38;5;124m'\u001b[39m\u001b[38;5;124m, \u001b[39m\u001b[38;5;124m'\u001b[39m\u001b[38;5;132;01m{\u001b[39;00mrow[\u001b[38;5;124m'\u001b[39m\u001b[38;5;124mChangedate\u001b[39m\u001b[38;5;124m'\u001b[39m]\u001b[38;5;132;01m}\u001b[39;00m\u001b[38;5;124m'\u001b[39m\u001b[38;5;124m)\u001b[39m\u001b[38;5;124m\"\u001b[39m\n\u001b[1;32m---> 16\u001b[0m \u001b[43mexport_cursor\u001b[49m\u001b[38;5;241;43m.\u001b[39;49m\u001b[43mexecute\u001b[49m\u001b[43m(\u001b[49m\u001b[43mquery_satisfaction\u001b[49m\u001b[43m)\u001b[49m\n\u001b[0;32m     18\u001b[0m export_conn\u001b[38;5;241m.\u001b[39mcommit()\n",
      "\u001b[1;31mDataError\u001b[0m: ('22018', \"[22018] [Microsoft][ODBC SQL Server Driver][SQL Server]Conversion failed when converting the varchar value 'None' to data type int. (245) (SQLExecDirectW)\")"
     ]
    }
   ],
   "source": [
    "staff_id = 12\n",
    "satisfaction_data = {\n",
    "    'SATISFACTION_SK' : [(pd.read_sql_query('SELECT MAX(SATISFACTION_SK) FROM SATISFACTION', export_conn) + 1).iloc[0, 0]],\n",
    "    'SATISFACTION_YEAR_number': [2010],\n",
    "    'SATISFACTION_STAFF_id': [staff_id],\n",
    "    'SATISFACTION_TYPE_id': [1],\n",
    "    'SATISFACTION_TYPE_description': ['goed'],\n",
    "    'SALES_FSK': [(pd.read_sql_query('select MAX(SALES_SK) from SALES where SALES_STAFF_id = ' + str(staff_id), export_conn)).iloc[0, 0]],\n",
    "    'Changedate': [current_time]\n",
    "}\n",
    "\n",
    "dbobject = pd.DataFrame(satisfaction_data)\n",
    "\n",
    "for index, row in dbobject.iterrows():\n",
    "    query_satisfaction = f\"INSERT INTO SATISFACTION VALUES ({row['SATISFACTION_SK']}, {row['SATISFACTION_YEAR_number']},'{row['SATISFACTION_STAFF_id']}', '{row['SATISFACTION_TYPE_id']}', '{row['SATISFACTION_TYPE_description']}', '{row['SALES_FSK']}', '{row['Changedate']}')\"\n",
    "export_cursor.execute(query_satisfaction)\n",
    "\n",
    "export_conn.commit()"
   ]
  },
  {
   "cell_type": "code",
   "execution_count": null,
   "metadata": {},
   "outputs": [
    {
     "name": "stderr",
     "output_type": "stream",
     "text": [
      "C:\\Users\\Alvaro\\AppData\\Local\\Temp\\ipykernel_101384\\2394023255.py:4: UserWarning: pandas only supports SQLAlchemy connectable (engine/connection) or database string URI or sqlite3 DBAPI2 connection. Other DBAPI2 objects are not tested. Please consider using SQLAlchemy.\n",
      "  SK = (pd.read_sql_query(f'SELECT MAX({table}_SK) FROM {table}', export_conn) + 1).iloc[0, 0]\n",
      "C:\\Users\\Alvaro\\AppData\\Local\\Temp\\ipykernel_101384\\2394023255.py:29: UserWarning: pandas only supports SQLAlchemy connectable (engine/connection) or database string URI or sqlite3 DBAPI2 connection. Other DBAPI2 objects are not tested. Please consider using SQLAlchemy.\n",
      "  'SALES_FSK' : [(pd.read_sql_query('select MAX(SALES_SK) from SALES where SALES_STAFF_id = ' + str(1), export_conn)).iloc[0, 0]],\n"
     ]
    }
   ],
   "source": [
    "sales_staff_id = 1\n",
    "\n",
    "def changeSK(tables, table, id):\n",
    "    SK = (pd.read_sql_query(f'SELECT MAX({table}_SK) FROM {table}', export_conn) + 1).iloc[0, 0]\n",
    "    for tbl, tbl_name in tables:\n",
    "        query_change = f'UPDATE {tbl_name} SET {table}_FSK = {SK} WHERE {tbl_name}_STAFF_id = {id}'\n",
    "        export_cursor.execute(query_change)\n",
    "    return SK\n",
    "\n",
    "sales_data = { \n",
    "    'SALES_SK':[changeSK([('tabel1', 'SALES'),('tabel2', 'SATISFACTION')], 'SALES', sales_staff_id)],\n",
    "    'SALES_STAFF_id':[sales_staff_id],\n",
    "    'SALES_FIRST_name':['Hans'],\n",
    "    'SALES_LAST_name':['Koning'],\n",
    "    'SALES_EXTENSION_number':[25],\n",
    "    'SALES_EMAIL_name':['@mail.com'],\n",
    "    'SALES_MANAGER_id':[11],\n",
    "    'SALES_BRANCH_id':[3],\n",
    "    'SALES_ADDRESS1_name':['straat3'],\n",
    "    'SALES_ADDRESS2_name':['straat4'],\n",
    "    'SALES_POSITION_name':['boss'],\n",
    "    'SALES_WORK_PHONE_number':[12345],\n",
    "    'SALES_FAX_number':[12],\n",
    "    'SALES_HIRED_date' : ['5/12/2024'],\n",
    "    'SALES_COUNTRY_id' : [3],\n",
    "    'SALES_REGION_name' : ['W'],\n",
    "    'SALES_CITY_name' : ['Utrecht'],\n",
    "    'SALES_POSTAL_ZONE_name' : ['2325KL'],\n",
    "    'SALES_FSK' : [(pd.read_sql_query('select MAX(SALES_SK) from SALES where SALES_STAFF_id = ' + str(1), export_conn)).iloc[0, 0]],\n",
    "    'Changedate': [current_time]\n",
    "}\n",
    "\n",
    "dbobject2 = pd.DataFrame(sales_data)\n",
    "\n",
    "for index, row in dbobject2.iterrows():\n",
    "    query_sales = f\"INSERT INTO SALES VALUES ({row['SALES_SK']},'{row['SALES_STAFF_id']}', '{row['SALES_FIRST_name']}', '{row['SALES_LAST_name']}', '{row['SALES_EXTENSION_number']}', '{row['SALES_EMAIL_name']}', '{row['SALES_MANAGER_id']}', '{row['SALES_BRANCH_id']}', '{row['SALES_ADDRESS1_name']}', '{row['SALES_ADDRESS2_name']}', '{row['SALES_POSITION_name']}', '{row['SALES_WORK_PHONE_number']}', '{row['SALES_FAX_number']}', '{row['SALES_HIRED_date']}', '{row['SALES_COUNTRY_id']}', '{row['SALES_REGION_name']}', '{row['SALES_CITY_name']}', '{row['SALES_POSTAL_ZONE_name']}', '{row['SALES_FSK']}', '{row['Changedate']}')\"\n",
    "export_cursor.execute(query_sales)\n",
    "\n",
    "export_conn.commit()"
   ]
  },
  {
   "cell_type": "code",
   "execution_count": null,
   "metadata": {},
   "outputs": [],
   "source": [
    "for index, row in dbobject2.iterrows():\n",
    "    query_sales = f\"INSERT INTO SALES VALUES ({row['SALES_SK']},'{row['SALES_STAFF_id']}', '{row['SALES_FIRST_name']}', '{row['SALES_LAST_name']}', '{row['SALES_EXTENSION_number']}', '{row['SALES_EMAIL_name']}', '{row['SALES_MANAGER_id']}', '{row['SALES_BRANCH_id']}', '{row['SALES_ADDRESS1_name']}', '{row['SALES_ADDRESS2_name']}', '{row['SALES_POSITION_name']}', '{row['SALES_WORK_PHONE_number']}', '{row['SALES_FAX_number']}', '{row['SALES_HIRED_date']}', '{row['SALES_COUNTRY_id']}', '{row['SALES_REGION_name']}', '{row['SALES_CITY_name']}', '{row['SALES_POSTAL_ZONE_name']}', '{row['SALES_FSK']}', '{row['Changedate']}')\"\n",
    "export_cursor.execute(query_sales)\n",
    "\n",
    "export_conn.commit()"
   ]
  },
  {
   "cell_type": "code",
   "execution_count": null,
   "metadata": {},
   "outputs": [],
   "source": [
    "export_conn.close()"
   ]
  }
 ],
 "metadata": {
  "kernelspec": {
   "display_name": "Python 3",
   "language": "python",
   "name": "python3"
  },
  "language_info": {
   "codemirror_mode": {
    "name": "ipython",
    "version": 3
   },
   "file_extension": ".py",
   "mimetype": "text/x-python",
   "name": "python",
   "nbconvert_exporter": "python",
   "pygments_lexer": "ipython3",
   "version": "3.12.2"
  }
 },
 "nbformat": 4,
 "nbformat_minor": 2
}
