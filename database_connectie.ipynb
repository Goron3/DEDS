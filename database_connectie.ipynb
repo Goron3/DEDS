{
 "cells": [
  {
   "cell_type": "code",
   "execution_count": 124,
   "metadata": {},
   "outputs": [],
   "source": [
    "import pandas as pd\n",
    "import pyodbc\n",
    "import sqlite3\n",
    "from datetime import datetime"
   ]
  },
  {
   "cell_type": "code",
   "execution_count": 125,
   "metadata": {},
   "outputs": [
    {
     "data": {
      "text/plain": [
       "'15/03/2024 15:23:51'"
      ]
     },
     "execution_count": 125,
     "metadata": {},
     "output_type": "execute_result"
    }
   ],
   "source": [
    "DB = {'servername': r'DESKTOP-I3QFF0F\\SQLEXPRESS', 'database': 'DWH'}\n",
    "now = datetime.now()\n",
    "sqlite_connectie = sqlite3.connect('DWH')\n",
    "export_conn = pyodbc.connect('DRIVER={SQL Server};SERVER=' + DB['servername'] + ';DATABASE=' + DB['database'] + ';Trusted_Connection=yes')\n",
    "export_cursor = export_conn.cursor()\n",
    "export_cursor\n",
    "\n",
    "\n",
    "current_time= now.strftime(\"%d/%m/%Y %H:%M:%S\")\n",
    "current_time\n"
   ]
  },
  {
   "cell_type": "code",
   "execution_count": 126,
   "metadata": {},
   "outputs": [
    {
     "name": "stdout",
     "output_type": "stream",
     "text": [
      "     \n",
      "0  36\n"
     ]
    },
    {
     "name": "stderr",
     "output_type": "stream",
     "text": [
      "C:\\Users\\Alvaro\\AppData\\Local\\Temp\\ipykernel_78288\\2518073867.py:10: UserWarning: pandas only supports SQLAlchemy connectable (engine/connection) or database string URI or sqlite3 DBAPI2 connection. Other DBAPI2 objects are not tested. Please consider using SQLAlchemy.\n",
      "  max_sales_sk = (pd.read_sql_query('SELECT MAX(SALES_SK) FROM SALES', export_conn) + 1).iloc[0, 0]\n",
      "C:\\Users\\Alvaro\\AppData\\Local\\Temp\\ipykernel_78288\\2518073867.py:40: UserWarning: pandas only supports SQLAlchemy connectable (engine/connection) or database string URI or sqlite3 DBAPI2 connection. Other DBAPI2 objects are not tested. Please consider using SQLAlchemy.\n",
      "  print(pd.read_sql_query('SELECT MAX(SALES_SK) FROM SALES', export_conn) + 1)\n"
     ]
    }
   ],
   "source": [
    "satisfaction_data = {\n",
    "    'SATISFACTION_YEAR_number': [2010],\n",
    "    'SATISFACTION_STAFF_id': [1],\n",
    "    'SATISFACTION_TYPE_id': [1],\n",
    "    'SATISFACTION_TYPE_description': [\"goed\"],\n",
    "    'SALES_FSK': [1],\n",
    "    'Changedate': [current_time]\n",
    "}\n",
    "\n",
    "max_sales_sk = (pd.read_sql_query('SELECT MAX(SALES_SK) FROM SALES', export_conn) + 1).iloc[0, 0]\n",
    "\n",
    "sales_data = { \n",
    "    'SALES_SK':[max_sales_sk],\n",
    "    'SALES_STAFF_id':[15],\n",
    "    'SALES_FIRST_name':[\"Tim\"],\n",
    "    'SALES_LAST_name':[\"Visser\"],\n",
    "    'SALES_EXTENSION_number':[25],\n",
    "    'SALES_EMAIL_name':[\"@mail.com\"],\n",
    "    'SALES_MANAGER_id':[11],\n",
    "    'SALES_BRANCH_id':[3],\n",
    "    'SALES_ADDRESS1_name':[\"straat3\"],\n",
    "    'SALES_ADDRESS2_name':[\"straat4\"],\n",
    "    'SALES_POSITION_name':[\"boss\"],\n",
    "    'SALES_WORK_PHONE_number':[12345],\n",
    "    'SALES_FAX_number':[12],\n",
    "    'SALES_HIRED_date' : [\"5/12/2024\"],\n",
    "    'SALES_COUNTRY_id' : [3],\n",
    "    'SALES_REGION_name' : [\"W\"],\n",
    "    'SALES_CITY_name' : [\"Utrecht\"],\n",
    "    'SALES_POSTAL_ZONE_name' : [\"2325KL\"],\n",
    "    'SALES_FSK' : [2],\n",
    "    'Changedate': [current_time]\n",
    "}\n",
    "\n",
    "dbobject = pd.DataFrame(satisfaction_data)\n",
    "data = pd.read_sql_query('SELECT * FROM SATISFACTION', sqlite_connectie)\n",
    "dbobject2 = pd.DataFrame(sales_data)\n",
    "pd.read_sql_query('SELECT * FROM SALES', sqlite_connectie)\n",
    "\n",
    "print(pd.read_sql_query('SELECT MAX(SALES_SK) FROM SALES', export_conn) + 1)\n"
   ]
  },
  {
   "cell_type": "code",
   "execution_count": 127,
   "metadata": {},
   "outputs": [
    {
     "name": "stderr",
     "output_type": "stream",
     "text": [
      "C:\\Users\\Alvaro\\AppData\\Local\\Temp\\ipykernel_78288\\2910302212.py:2: UserWarning: pandas only supports SQLAlchemy connectable (engine/connection) or database string URI or sqlite3 DBAPI2 connection. Other DBAPI2 objects are not tested. Please consider using SQLAlchemy.\n",
      "  return pd.read_sql_query('SELECT MAX(SALES_SK) FROM SALES', export_conn) + 1\n"
     ]
    },
    {
     "data": {
      "text/html": [
       "<div>\n",
       "<style scoped>\n",
       "    .dataframe tbody tr th:only-of-type {\n",
       "        vertical-align: middle;\n",
       "    }\n",
       "\n",
       "    .dataframe tbody tr th {\n",
       "        vertical-align: top;\n",
       "    }\n",
       "\n",
       "    .dataframe thead th {\n",
       "        text-align: right;\n",
       "    }\n",
       "</style>\n",
       "<table border=\"1\" class=\"dataframe\">\n",
       "  <thead>\n",
       "    <tr style=\"text-align: right;\">\n",
       "      <th></th>\n",
       "      <th></th>\n",
       "    </tr>\n",
       "  </thead>\n",
       "  <tbody>\n",
       "    <tr>\n",
       "      <th>0</th>\n",
       "      <td>36</td>\n",
       "    </tr>\n",
       "  </tbody>\n",
       "</table>\n",
       "</div>"
      ],
      "text/plain": [
       "     \n",
       "0  36"
      ]
     },
     "execution_count": 127,
     "metadata": {},
     "output_type": "execute_result"
    }
   ],
   "source": [
    "def staff()\n",
    "    \n",
    "    if\n",
    "def updateSKstaff():\n",
    "    "
   ]
  },
  {
   "cell_type": "code",
   "execution_count": 128,
   "metadata": {},
   "outputs": [],
   "source": [
    "for index, row in dbobject.iterrows():\n",
    "    query_satisfaction = f\"INSERT INTO SATISFACTION VALUES ({row['SATISFACTION_YEAR_number']},'{row['SATISFACTION_STAFF_id']}', '{row['SATISFACTION_TYPE_id']}', '{row['SATISFACTION_TYPE_description']}', '{row['SALES_FSK']}', '{row['Changedate']}')\"\n",
    "export_cursor.execute(query_satisfaction)\n",
    "for index, row in dbobject2.iterrows():\n",
    "    query_sales = f\"INSERT INTO SALES VALUES ({row['SALES_SK']},'{row['SALES_STAFF_id']}', '{row['SALES_FIRST_name']}', '{row['SALES_LAST_name']}', '{row['SALES_EXTENSION_number']}', '{row['SALES_EMAIL_name']}', '{row['SALES_MANAGER_id']}', '{row['SALES_BRANCH_id']}', '{row['SALES_ADDRESS1_name']}', '{row['SALES_ADDRESS2_name']}', '{row['SALES_POSITION_name']}', '{row['SALES_WORK_PHONE_number']}', '{row['SALES_FAX_number']}', '{row['SALES_HIRED_date']}', '{row['SALES_COUNTRY_id']}', '{row['SALES_REGION_name']}', '{row['SALES_CITY_name']}', '{row['SALES_POSTAL_ZONE_name']}', '{row['SALES_FSK']}', '{row['Changedate']}')\"\n",
    "export_cursor.execute(query_sales)\n",
    "\n",
    "export_conn.commit()\n",
    "export_cursor.close()\n",
    "\n"
   ]
  },
  {
   "cell_type": "markdown",
   "metadata": {},
   "source": []
  },
  {
   "cell_type": "code",
   "execution_count": 129,
   "metadata": {},
   "outputs": [
    {
     "data": {
      "text/plain": [
       "1"
      ]
     },
     "execution_count": 129,
     "metadata": {},
     "output_type": "execute_result"
    }
   ],
   "source": [
    "dbobject.to_sql('SATISFACTION', sqlite_connectie, if_exists='replace', index = False)\n",
    "dbobject2.to_sql('SALES', sqlite_connectie, if_exists='replace', index = False)"
   ]
  }
 ],
 "metadata": {
  "kernelspec": {
   "display_name": "Python 3",
   "language": "python",
   "name": "python3"
  },
  "language_info": {
   "codemirror_mode": {
    "name": "ipython",
    "version": 3
   },
   "file_extension": ".py",
   "mimetype": "text/x-python",
   "name": "python",
   "nbconvert_exporter": "python",
   "pygments_lexer": "ipython3",
   "version": "3.12.2"
  }
 },
 "nbformat": 4,
 "nbformat_minor": 2
}
