{
 "cells": [
  {
   "cell_type": "code",
   "execution_count": 3,
   "metadata": {},
   "outputs": [],
   "source": [
    "import pandas as pd\n",
    "import pyodbc\n",
    "import sqlite3\n",
    "from datetime import datetime"
   ]
  },
  {
   "cell_type": "code",
   "execution_count": 6,
   "metadata": {},
   "outputs": [
    {
     "data": {
      "text/plain": [
       "'18/03/2024 12:15:27'"
      ]
     },
     "execution_count": 6,
     "metadata": {},
     "output_type": "execute_result"
    }
   ],
   "source": [
    "DB = {'servername': r'DESKTOP-I3QFF0F\\SQLEXPRESS', 'database': 'DWH'}\n",
    "now = datetime.now()\n",
    "sqlite_connectie = sqlite3.connect('DWH')\n",
    "export_conn = pyodbc.connect('DRIVER={SQL Server};SERVER=' + DB['servername'] + ';DATABASE=' + DB['database'] + ';Trusted_Connection=yes')\n",
    "export_cursor = export_conn.cursor()\n",
    "export_cursor\n",
    "\n",
    "\n",
    "current_time= now.strftime(\"%d/%m/%Y %H:%M:%S\")\n",
    "current_time"
   ]
  },
  {
   "cell_type": "code",
   "execution_count": 8,
   "metadata": {},
   "outputs": [
    {
     "ename": "NameError",
     "evalue": "name 'export_conn' is not defined",
     "output_type": "error",
     "traceback": [
      "\u001b[0;31m---------------------------------------------------------------------------\u001b[0m",
      "\u001b[0;31mNameError\u001b[0m                                 Traceback (most recent call last)",
      "Cell \u001b[0;32mIn[8], line 13\u001b[0m\n\u001b[1;32m      1\u001b[0m satisfaction_data \u001b[38;5;241m=\u001b[39m {\n\u001b[1;32m      2\u001b[0m     \u001b[38;5;124m'\u001b[39m\u001b[38;5;124mSATISFACTION_YEAR_number\u001b[39m\u001b[38;5;124m'\u001b[39m: [\u001b[38;5;241m2010\u001b[39m],\n\u001b[1;32m      3\u001b[0m     \u001b[38;5;124m'\u001b[39m\u001b[38;5;124mSATISFACTION_STAFF_id\u001b[39m\u001b[38;5;124m'\u001b[39m: [\u001b[38;5;241m1\u001b[39m],\n\u001b[0;32m   (...)\u001b[0m\n\u001b[1;32m      7\u001b[0m     \u001b[38;5;124m'\u001b[39m\u001b[38;5;124mChangedate\u001b[39m\u001b[38;5;124m'\u001b[39m: [current_time]\n\u001b[1;32m      8\u001b[0m }\n\u001b[1;32m     10\u001b[0m \u001b[38;5;66;03m#max_sales_sk = (pd.read_sql_query('SELECT MAX(SALES_SK) FROM SALES', export_conn) + 1).iloc[0, 0]\u001b[39;00m\n\u001b[1;32m     12\u001b[0m sales_data \u001b[38;5;241m=\u001b[39m { \n\u001b[0;32m---> 13\u001b[0m     \u001b[38;5;124m'\u001b[39m\u001b[38;5;124mSALES_SK\u001b[39m\u001b[38;5;124m'\u001b[39m:[\u001b[43mchangeSK\u001b[49m\u001b[43m(\u001b[49m\u001b[43m[\u001b[49m\u001b[38;5;124;43m\"\u001b[39;49m\u001b[38;5;124;43mSALES\u001b[39;49m\u001b[38;5;124;43m\"\u001b[39;49m\u001b[43m,\u001b[49m\u001b[43m \u001b[49m\u001b[38;5;124;43m\"\u001b[39;49m\u001b[38;5;124;43mSATISFACTION\u001b[39;49m\u001b[38;5;124;43m\"\u001b[39;49m\u001b[43m]\u001b[49m\u001b[43m)\u001b[49m],\n\u001b[1;32m     14\u001b[0m     \u001b[38;5;124m'\u001b[39m\u001b[38;5;124mSALES_STAFF_id\u001b[39m\u001b[38;5;124m'\u001b[39m:[\u001b[38;5;241m15\u001b[39m],\n\u001b[1;32m     15\u001b[0m     \u001b[38;5;124m'\u001b[39m\u001b[38;5;124mSALES_FIRST_name\u001b[39m\u001b[38;5;124m'\u001b[39m:[\u001b[38;5;124m\"\u001b[39m\u001b[38;5;124mTim\u001b[39m\u001b[38;5;124m\"\u001b[39m],\n\u001b[1;32m     16\u001b[0m     \u001b[38;5;124m'\u001b[39m\u001b[38;5;124mSALES_LAST_name\u001b[39m\u001b[38;5;124m'\u001b[39m:[\u001b[38;5;124m\"\u001b[39m\u001b[38;5;124mVisser\u001b[39m\u001b[38;5;124m\"\u001b[39m],\n\u001b[1;32m     17\u001b[0m     \u001b[38;5;124m'\u001b[39m\u001b[38;5;124mSALES_EXTENSION_number\u001b[39m\u001b[38;5;124m'\u001b[39m:[\u001b[38;5;241m25\u001b[39m],\n\u001b[1;32m     18\u001b[0m     \u001b[38;5;124m'\u001b[39m\u001b[38;5;124mSALES_EMAIL_name\u001b[39m\u001b[38;5;124m'\u001b[39m:[\u001b[38;5;124m\"\u001b[39m\u001b[38;5;124m@mail.com\u001b[39m\u001b[38;5;124m\"\u001b[39m],\n\u001b[1;32m     19\u001b[0m     \u001b[38;5;124m'\u001b[39m\u001b[38;5;124mSALES_MANAGER_id\u001b[39m\u001b[38;5;124m'\u001b[39m:[\u001b[38;5;241m11\u001b[39m],\n\u001b[1;32m     20\u001b[0m     \u001b[38;5;124m'\u001b[39m\u001b[38;5;124mSALES_BRANCH_id\u001b[39m\u001b[38;5;124m'\u001b[39m:[\u001b[38;5;241m3\u001b[39m],\n\u001b[1;32m     21\u001b[0m     \u001b[38;5;124m'\u001b[39m\u001b[38;5;124mSALES_ADDRESS1_name\u001b[39m\u001b[38;5;124m'\u001b[39m:[\u001b[38;5;124m\"\u001b[39m\u001b[38;5;124mstraat3\u001b[39m\u001b[38;5;124m\"\u001b[39m],\n\u001b[1;32m     22\u001b[0m     \u001b[38;5;124m'\u001b[39m\u001b[38;5;124mSALES_ADDRESS2_name\u001b[39m\u001b[38;5;124m'\u001b[39m:[\u001b[38;5;124m\"\u001b[39m\u001b[38;5;124mstraat4\u001b[39m\u001b[38;5;124m\"\u001b[39m],\n\u001b[1;32m     23\u001b[0m     \u001b[38;5;124m'\u001b[39m\u001b[38;5;124mSALES_POSITION_name\u001b[39m\u001b[38;5;124m'\u001b[39m:[\u001b[38;5;124m\"\u001b[39m\u001b[38;5;124mboss\u001b[39m\u001b[38;5;124m\"\u001b[39m],\n\u001b[1;32m     24\u001b[0m     \u001b[38;5;124m'\u001b[39m\u001b[38;5;124mSALES_WORK_PHONE_number\u001b[39m\u001b[38;5;124m'\u001b[39m:[\u001b[38;5;241m12345\u001b[39m],\n\u001b[1;32m     25\u001b[0m     \u001b[38;5;124m'\u001b[39m\u001b[38;5;124mSALES_FAX_number\u001b[39m\u001b[38;5;124m'\u001b[39m:[\u001b[38;5;241m12\u001b[39m],\n\u001b[1;32m     26\u001b[0m     \u001b[38;5;124m'\u001b[39m\u001b[38;5;124mSALES_HIRED_date\u001b[39m\u001b[38;5;124m'\u001b[39m : [\u001b[38;5;124m\"\u001b[39m\u001b[38;5;124m5/12/2024\u001b[39m\u001b[38;5;124m\"\u001b[39m],\n\u001b[1;32m     27\u001b[0m     \u001b[38;5;124m'\u001b[39m\u001b[38;5;124mSALES_COUNTRY_id\u001b[39m\u001b[38;5;124m'\u001b[39m : [\u001b[38;5;241m3\u001b[39m],\n\u001b[1;32m     28\u001b[0m     \u001b[38;5;124m'\u001b[39m\u001b[38;5;124mSALES_REGION_name\u001b[39m\u001b[38;5;124m'\u001b[39m : [\u001b[38;5;124m\"\u001b[39m\u001b[38;5;124mW\u001b[39m\u001b[38;5;124m\"\u001b[39m],\n\u001b[1;32m     29\u001b[0m     \u001b[38;5;124m'\u001b[39m\u001b[38;5;124mSALES_CITY_name\u001b[39m\u001b[38;5;124m'\u001b[39m : [\u001b[38;5;124m\"\u001b[39m\u001b[38;5;124mUtrecht\u001b[39m\u001b[38;5;124m\"\u001b[39m],\n\u001b[1;32m     30\u001b[0m     \u001b[38;5;124m'\u001b[39m\u001b[38;5;124mSALES_POSTAL_ZONE_name\u001b[39m\u001b[38;5;124m'\u001b[39m : [\u001b[38;5;124m\"\u001b[39m\u001b[38;5;124m2325KL\u001b[39m\u001b[38;5;124m\"\u001b[39m],\n\u001b[1;32m     31\u001b[0m     \u001b[38;5;124m'\u001b[39m\u001b[38;5;124mSALES_FSK\u001b[39m\u001b[38;5;124m'\u001b[39m : [],\n\u001b[1;32m     32\u001b[0m     \u001b[38;5;124m'\u001b[39m\u001b[38;5;124mChangedate\u001b[39m\u001b[38;5;124m'\u001b[39m: [current_time]\n\u001b[1;32m     33\u001b[0m }\n\u001b[1;32m     35\u001b[0m dbobject \u001b[38;5;241m=\u001b[39m pd\u001b[38;5;241m.\u001b[39mDataFrame(satisfaction_data)\n\u001b[1;32m     36\u001b[0m data \u001b[38;5;241m=\u001b[39m pd\u001b[38;5;241m.\u001b[39mread_sql_query(\u001b[38;5;124m'\u001b[39m\u001b[38;5;124mSELECT * FROM SATISFACTION\u001b[39m\u001b[38;5;124m'\u001b[39m, sqlite_connectie)\n",
      "Cell \u001b[0;32mIn[1], line 2\u001b[0m, in \u001b[0;36mchangeSK\u001b[0;34m(tables)\u001b[0m\n\u001b[1;32m      1\u001b[0m \u001b[38;5;28;01mdef\u001b[39;00m \u001b[38;5;21mchangeSK\u001b[39m(tables):\n\u001b[0;32m----> 2\u001b[0m     SK \u001b[38;5;241m=\u001b[39m (pd\u001b[38;5;241m.\u001b[39mread_sql_query(\u001b[38;5;124m'\u001b[39m\u001b[38;5;124mSELECT MAX(SALES_SK) FROM SALES\u001b[39m\u001b[38;5;124m'\u001b[39m, \u001b[43mexport_conn\u001b[49m) \u001b[38;5;241m+\u001b[39m \u001b[38;5;241m1\u001b[39m)\u001b[38;5;241m.\u001b[39miloc[\u001b[38;5;241m0\u001b[39m, \u001b[38;5;241m0\u001b[39m]\n\u001b[1;32m      3\u001b[0m     \u001b[38;5;28;01mfor\u001b[39;00m i \u001b[38;5;129;01min\u001b[39;00m tables:\n\u001b[1;32m      4\u001b[0m         query_change \u001b[38;5;241m=\u001b[39m \u001b[38;5;124m\"\u001b[39m\u001b[38;5;124mHIER EEN QUERY OM DE FSK VAN \u001b[39m\u001b[38;5;124m\"\u001b[39m \u001b[38;5;241m+\u001b[39m tables[i] \u001b[38;5;241m+\u001b[39m \u001b[38;5;124m\"\u001b[39m\u001b[38;5;124m NAAR DE SK TE VERANDEREN\u001b[39m\u001b[38;5;124m\"\u001b[39m\n",
      "\u001b[0;31mNameError\u001b[0m: name 'export_conn' is not defined"
     ]
    }
   ],
   "source": [
    "staff_id = 21\n",
    "satisfaction_data = {\n",
    "    'SATISFACTION_YEAR_number': [2010],\n",
    "    'SATISFACTION_STAFF_id': [staff_id],\n",
    "    'SATISFACTION_TYPE_id': [1],\n",
    "    'SATISFACTION_TYPE_description': [\"goed\"],\n",
    "    'SALES_FSK': [1],\n",
    "    'Changedate': [current_time]\n",
    "}\n",
    "\n",
    "#max_sales_sk = (pd.read_sql_query('SELECT MAX(SALES_SK) FROM SALES', export_conn) + 1).iloc[0, 0]\n",
    "pd.read_sql_query(\"select MAX(SALES_SK) from SALES join SATISFACTION on SATISFACTION_STAFF_id = SALES_STAFF_id where SALES.STAFF_id = \" + staff_id)\n",
    "sales_data = { \n",
    "    'SALES_SK':[changeSK([\"SALES\", \"SATISFACTION\"], \"SALES\")],\n",
    "    'SALES_STAFF_id':[15],\n",
    "    'SALES_FIRST_name':[\"Tim\"],\n",
    "    'SALES_LAST_name':[\"Visser\"],\n",
    "    'SALES_EXTENSION_number':[25],\n",
    "    'SALES_EMAIL_name':[\"@mail.com\"],\n",
    "    'SALES_MANAGER_id':[11],\n",
    "    'SALES_BRANCH_id':[3],\n",
    "    'SALES_ADDRESS1_name':[\"straat3\"],\n",
    "    'SALES_ADDRESS2_name':[\"straat4\"],\n",
    "    'SALES_POSITION_name':[\"boss\"],\n",
    "    'SALES_WORK_PHONE_number':[12345],\n",
    "    'SALES_FAX_number':[12],\n",
    "    'SALES_HIRED_date' : [\"5/12/2024\"],\n",
    "    'SALES_COUNTRY_id' : [3],\n",
    "    'SALES_REGION_name' : [\"W\"],\n",
    "    'SALES_CITY_name' : [\"Utrecht\"],\n",
    "    'SALES_POSTAL_ZONE_name' : [\"2325KL\"],\n",
    "    'SALES_FSK' : [],\n",
    "    'Changedate': [current_time]\n",
    "}\n",
    "\n",
    "dbobject = pd.DataFrame(satisfaction_data)\n",
    "data = pd.read_sql_query('SELECT * FROM SATISFACTION', sqlite_connectie)\n",
    "dbobject2 = pd.DataFrame(sales_data)\n",
    "pd.read_sql_query('SELECT * FROM SALES', sqlite_connectie)\n",
    "\n"
   ]
  },
  {
   "cell_type": "code",
   "execution_count": 1,
   "metadata": {},
   "outputs": [],
   "source": [
    "def changeSK(tables, table):\n",
    "    SK = (pd.read_sql_query('SELECT MAX(' + table + '_SK) FROM ' + table, export_conn) + 1).iloc[0, 0]\n",
    "    #pd.read_sql_query(\"select * from \" + table + \" join \")\n",
    "    for i in tables:\n",
    "        query_change = \"HIER EEN QUERY OM DE FSK VAN \" + tables[i] + \" NAAR DE SK TE VERANDEREN\"\n",
    "    export_cursor.execute(query_change)\n",
    "    return SK"
   ]
  },
  {
   "cell_type": "code",
   "execution_count": 128,
   "metadata": {},
   "outputs": [],
   "source": [
    "for index, row in dbobject.iterrows():\n",
    "    query_satisfaction = f\"INSERT INTO SATISFACTION VALUES ({row['SATISFACTION_YEAR_number']},'{row['SATISFACTION_STAFF_id']}', '{row['SATISFACTION_TYPE_id']}', '{row['SATISFACTION_TYPE_description']}', '{row['SALES_FSK']}', '{row['Changedate']}')\"\n",
    "export_cursor.execute(query_satisfaction)\n",
    "for index, row in dbobject2.iterrows():\n",
    "    query_sales = f\"INSERT INTO SALES VALUES ({row['SALES_SK']},'{row['SALES_STAFF_id']}', '{row['SALES_FIRST_name']}', '{row['SALES_LAST_name']}', '{row['SALES_EXTENSION_number']}', '{row['SALES_EMAIL_name']}', '{row['SALES_MANAGER_id']}', '{row['SALES_BRANCH_id']}', '{row['SALES_ADDRESS1_name']}', '{row['SALES_ADDRESS2_name']}', '{row['SALES_POSITION_name']}', '{row['SALES_WORK_PHONE_number']}', '{row['SALES_FAX_number']}', '{row['SALES_HIRED_date']}', '{row['SALES_COUNTRY_id']}', '{row['SALES_REGION_name']}', '{row['SALES_CITY_name']}', '{row['SALES_POSTAL_ZONE_name']}', '{row['SALES_FSK']}', '{row['Changedate']}')\"\n",
    "export_cursor.execute(query_sales)\n",
    "\n",
    "export_conn.commit()\n",
    "export_cursor.close()\n",
    "\n"
   ]
  },
  {
   "cell_type": "code",
   "execution_count": 129,
   "metadata": {},
   "outputs": [
    {
     "data": {
      "text/plain": [
       "1"
      ]
     },
     "execution_count": 129,
     "metadata": {},
     "output_type": "execute_result"
    }
   ],
   "source": [
    "dbobject.to_sql('SATISFACTION', sqlite_connectie, if_exists='replace', index = False)\n",
    "dbobject2.to_sql('SALES', sqlite_connectie, if_exists='replace', index = False)"
   ]
  }
 ],
 "metadata": {
  "kernelspec": {
   "display_name": "Python 3",
   "language": "python",
   "name": "python3"
  },
  "language_info": {
   "codemirror_mode": {
    "name": "ipython",
    "version": 3
   },
   "file_extension": ".py",
   "mimetype": "text/x-python",
   "name": "python",
   "nbconvert_exporter": "python",
   "pygments_lexer": "ipython3",
   "version": "3.10.13"
  }
 },
 "nbformat": 4,
 "nbformat_minor": 2
}
