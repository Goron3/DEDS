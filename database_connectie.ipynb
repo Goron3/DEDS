{
 "cells": [
  {
   "cell_type": "code",
   "execution_count": null,
   "metadata": {},
   "outputs": [],
   "source": [
    "import pandas as pd\n",
    "import pyodbc\n",
    "import sqlite3"
   ]
  },
  {
   "cell_type": "code",
   "execution_count": null,
   "metadata": {},
   "outputs": [],
   "source": [
    "DB = {'servername': r'DESKTOP-I3QFF0F\\SQLEXPRESS', 'database': 'DWH'}\n",
    "\n",
    "export_conn = pyodbc.connect('DRIVER={SQL Server};SERVER=' + DB['servername'] + ';DATABASE=' + DB['database'] + ';Trusted_Connection=yes')\n",
    "export_cursor = export_conn.cursor()\n",
    "export_cursor\n",
    "\n",
    "go_sales_connect = sqlite3.connect('go_sales.sqlite')\n",
    "go_crm_connect = sqlite3.connect('go_crm.sqlite')\n",
    "go_staff_connect = sqlite3.connect('go_staff.sqlite')"
   ]
  },
  {
   "cell_type": "code",
   "execution_count": null,
   "metadata": {},
   "outputs": [],
   "source": [
    "order = pd.read_sql_query(\"SELECT * FROM satisfaction\", go_staff_connect )\n",
    "order"
   ]
  },
  {
   "cell_type": "code",
   "execution_count": null,
   "metadata": {},
   "outputs": [],
   "source": [
    "for index, row in order.iterrows():\n",
    "    query_satisfaction = f\"INSERT INTO SATISFACTION VALUES ({row['SATISFACTION_YEAR_number']},'{row['SATISFACTION_STAFF_id']}', '{row['SATISFACTION_TYPE_id']}', '{row['SATISFACTION_TYPE_description']}')\"\n",
    "    export_cursor.execute(query_satisfaction)\n",
    "   \n",
    "\n",
    "export_conn.commit()\n",
    "export_cursor.close()"
   ]
  }
 ],
 "metadata": {
  "kernelspec": {
   "display_name": "Python 3",
   "language": "python",
   "name": "python3"
  },
  "language_info": {
   "codemirror_mode": {
    "name": "ipython",
    "version": 3
   },
   "file_extension": ".py",
   "mimetype": "text/x-python",
   "name": "python",
   "nbconvert_exporter": "python",
   "pygments_lexer": "ipython3",
   "version": "3.12.2"
  }
 },
 "nbformat": 4,
 "nbformat_minor": 2
}
