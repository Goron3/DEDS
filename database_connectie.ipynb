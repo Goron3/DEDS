{
 "cells": [
  {
   "cell_type": "code",
   "execution_count": 40,
   "metadata": {},
   "outputs": [],
   "source": [
    "import pandas as pd\n",
    "import pyodbc\n",
    "import sqlite3\n",
    "from datetime import datetime"
   ]
  },
  {
   "cell_type": "code",
   "execution_count": 41,
   "metadata": {},
   "outputs": [
    {
     "data": {
      "text/plain": [
       "'18/03/2024 17:05:14'"
      ]
     },
     "execution_count": 41,
     "metadata": {},
     "output_type": "execute_result"
    }
   ],
   "source": [
    "DB = {'servername': r'DESKTOP-I3QFF0F\\SQLEXPRESS', 'database': 'DWH'}\n",
    "now = datetime.now()\n",
    "sqlite_connectie = sqlite3.connect('DWH')\n",
    "export_conn = pyodbc.connect('DRIVER={SQL Server};SERVER=' + DB['servername'] + ';DATABASE=' + DB['database'] + ';Trusted_Connection=yes')\n",
    "export_cursor = export_conn.cursor()\n",
    "export_cursor\n",
    "\n",
    "\n",
    "current_time= now.strftime(\"%d/%m/%Y %H:%M:%S\")\n",
    "current_time"
   ]
  },
  {
   "cell_type": "code",
   "execution_count": 56,
   "metadata": {},
   "outputs": [
    {
     "name": "stderr",
     "output_type": "stream",
     "text": [
      "C:\\Users\\Alvaro\\AppData\\Local\\Temp\\ipykernel_87468\\3101980912.py:20: UserWarning: pandas only supports SQLAlchemy connectable (engine/connection) or database string URI or sqlite3 DBAPI2 connection. Other DBAPI2 objects are not tested. Please consider using SQLAlchemy.\n",
      "  'SALES_FSK': [pd.read_sql_query(\"select MAX(SALES_SK) from SALES where SALES_STAFF_id = \" + str(staff_id), export_conn)],\n",
      "C:\\Users\\Alvaro\\AppData\\Local\\Temp\\ipykernel_87468\\3101980912.py:6: UserWarning: pandas only supports SQLAlchemy connectable (engine/connection) or database string URI or sqlite3 DBAPI2 connection. Other DBAPI2 objects are not tested. Please consider using SQLAlchemy.\n",
      "  SK = (pd.read_sql_query(f'SELECT MAX({table}_SK) FROM {table}', export_conn) + 1).iloc[0, 0]\n",
      "C:\\Users\\Alvaro\\AppData\\Local\\Temp\\ipykernel_87468\\3101980912.py:44: UserWarning: pandas only supports SQLAlchemy connectable (engine/connection) or database string URI or sqlite3 DBAPI2 connection. Other DBAPI2 objects are not tested. Please consider using SQLAlchemy.\n",
      "  'SALES_FSK' : [pd.read_sql_query(\"select MAX(SALES_SK) from SALES where SALES.SALES_STAFF_id = \" + str(0), export_conn)],\n"
     ]
    }
   ],
   "source": [
    "sales_staff_id = 15\n",
    "\n",
    "tabels = [(\"tabel1\", \"SALES\"),(\"tabel2\", \"SATISFACTION\")]\n",
    "\n",
    "def changeSK(tables, table, id):\n",
    "    SK = (pd.read_sql_query(f'SELECT MAX({table}_SK) FROM {table}', export_conn) + 1).iloc[0, 0]\n",
    "    for tbl, tbl_name in tables:\n",
    "        query_change = f\"UPDATE {tbl_name} SET {table}_FSK = {SK} WHERE {tbl_name}_STAFF_id = {id}\"\n",
    "        export_cursor.execute(query_change)\n",
    "        export_conn.commit()\n",
    "    return SK\n",
    "\n",
    "staff_id = 15\n",
    "satisfaction_data = {\n",
    "    'SATISFACTION_SK' : [(pd.read_sql_query('SELECT MAX(SATISFACTION_SK) FROM SATISFACTION', export_conn) + 1).iloc[0, 0]],\n",
    "    'SATISFACTION_YEAR_number': [2010],\n",
    "    'SATISFACTION_STAFF_id': [staff_id],\n",
    "    'SATISFACTION_TYPE_id': [1],\n",
    "    'SATISFACTION_TYPE_description': [\"goed\"],\n",
    "    'SALES_FSK': [pd.read_sql_query(\"select MAX(SALES_SK) from SALES where SALES_STAFF_id = \" + str(staff_id), export_conn)],\n",
    "    'Changedate': [current_time]\n",
    "}\n",
    "\n",
    "\n",
    "sales_data = { \n",
    "    'SALES_SK':[changeSK(tabels, \"SALES\", sales_staff_id)],\n",
    "    'SALES_STAFF_id':[sales_staff_id],\n",
    "    'SALES_FIRST_name':[\"Willem\"],\n",
    "    'SALES_LAST_name':[\"Jansen\"],\n",
    "    'SALES_EXTENSION_number':[25],\n",
    "    'SALES_EMAIL_name':[\"@mail.com\"],\n",
    "    'SALES_MANAGER_id':[11],\n",
    "    'SALES_BRANCH_id':[3],\n",
    "    'SALES_ADDRESS1_name':[\"straat3\"],\n",
    "    'SALES_ADDRESS2_name':[\"straat4\"],\n",
    "    'SALES_POSITION_name':[\"boss\"],\n",
    "    'SALES_WORK_PHONE_number':[12345],\n",
    "    'SALES_FAX_number':[12],\n",
    "    'SALES_HIRED_date' : [\"5/12/2024\"],\n",
    "    'SALES_COUNTRY_id' : [3],\n",
    "    'SALES_REGION_name' : [\"W\"],\n",
    "    'SALES_CITY_name' : [\"Utrecht\"],\n",
    "    'SALES_POSTAL_ZONE_name' : [\"2325KL\"],\n",
    "    'SALES_FSK' : [pd.read_sql_query(\"select MAX(SALES_SK) from SALES where SALES.SALES_STAFF_id = \" + str(0), export_conn)],\n",
    "    'Changedate': [current_time]\n",
    "}\n",
    "\n",
    "dbobject = pd.DataFrame(satisfaction_data)\n",
    "dbobject2 = pd.DataFrame(sales_data)\n",
    "\n"
   ]
  },
  {
   "cell_type": "markdown",
   "metadata": {},
   "source": []
  },
  {
   "cell_type": "code",
   "execution_count": null,
   "metadata": {},
   "outputs": [],
   "source": [
    "sales_staff_id = 15\n",
    "tables = [\n",
    "    (\"tabel1\", \"SALES\"),\n",
    "    (\"tabel2\", \"SATISFACTION\")\n",
    "]\n",
    "\n",
    "def changeSK(tables, table, id):\n",
    "    SK = (pd.read_sql_query(f'SELECT MAX({table}_SK) FROM {table}', export_conn) + 1).iloc[0, 0]\n",
    "    for tbl, tbl_name in tables:\n",
    "        query_change = f\"UPDATE {tbl_name} SET {table}_FSK = {SK} WHERE {tbl_name}_STAFF_id = {id}\"\n",
    "        export_cursor.execute(query_change)\n",
    "    return SK\n",
    "\n",
    "    \n",
    "#max_sales_sk = (pd.read_sql_query('SELECT MAX(SALES_SK) FROM SALES', export_conn) + 1).iloc[0, 0]\n",
    "sales_data = { \n",
    "    'SALES_SK':[changeSK(tables, \"SALES\", sales_staff_id)],\n",
    "    'SALES_STAFF_id':[sales_staff_id],\n",
    "    'SALES_FIRST_name':[\"Tim\"],\n",
    "    'SALES_LAST_name':[\"Visser\"],\n",
    "    'SALES_EXTENSION_number':[25],\n",
    "    'SALES_EMAIL_name':[\"@mail.com\"],\n",
    "    'SALES_MANAGER_id':[11],\n",
    "    'SALES_BRANCH_id':[3],\n",
    "    'SALES_ADDRESS1_name':[\"straat3\"],\n",
    "    'SALES_ADDRESS2_name':[\"straat4\"],\n",
    "    'SALES_POSITION_name':[\"boss\"],\n",
    "    'SALES_WORK_PHONE_number':[12345],\n",
    "    'SALES_FAX_number':[12],\n",
    "    'SALES_HIRED_date' : [\"5/12/2024\"],\n",
    "    'SALES_COUNTRY_id' : [3],\n",
    "    'SALES_REGION_name' : [\"W\"],\n",
    "    'SALES_CITY_name' : [\"Utrecht\"],\n",
    "    'SALES_POSTAL_ZONE_name' : [\"2325KL\"],\n",
    "    'SALES_FSK' : [pd.read_sql_query(\"select MAX(SALES_SK) from SALES where SALES.SALES_STAFF_id = \" + str(0), export_conn)],\n",
    "    'Changedate': [current_time]\n",
    "}\n",
    "\n",
    "dbobject2 = pd.DataFrame(sales_data)\n",
    "for index, row in dbobject2.iterrows():\n",
    "    query_sales = f\"INSERT INTO SALES VALUES ({row['SALES_SK']},'{row['SALES_STAFF_id']}', '{row['SALES_FIRST_name']}', '{row['SALES_LAST_name']}', '{row['SALES_EXTENSION_number']}', '{row['SALES_EMAIL_name']}', '{row['SALES_MANAGER_id']}', '{row['SALES_BRANCH_id']}', '{row['SALES_ADDRESS1_name']}', '{row['SALES_ADDRESS2_name']}', '{row['SALES_POSITION_name']}', '{row['SALES_WORK_PHONE_number']}', '{row['SALES_FAX_number']}', '{row['SALES_HIRED_date']}', '{row['SALES_COUNTRY_id']}', '{row['SALES_REGION_name']}', '{row['SALES_CITY_name']}', '{row['SALES_POSTAL_ZONE_name']}', '{row['SALES_FSK']}', '{row['Changedate']}')\"\n",
    "export_cursor.execute(query_sales)\n"
   ]
  },
  {
   "cell_type": "code",
   "execution_count": 57,
   "metadata": {},
   "outputs": [
    {
     "ename": "DataError",
     "evalue": "('22018', \"[22018] [Microsoft][ODBC SQL Server Driver][SQL Server]Conversion failed when converting the varchar value '     \\n0  37' to data type int. (245) (SQLExecDirectW)\")",
     "output_type": "error",
     "traceback": [
      "\u001b[1;31m---------------------------------------------------------------------------\u001b[0m",
      "\u001b[1;31mDataError\u001b[0m                                 Traceback (most recent call last)",
      "Cell \u001b[1;32mIn[57], line 3\u001b[0m\n\u001b[0;32m      1\u001b[0m \u001b[38;5;28;01mfor\u001b[39;00m index, row \u001b[38;5;129;01min\u001b[39;00m dbobject\u001b[38;5;241m.\u001b[39miterrows():\n\u001b[0;32m      2\u001b[0m     query_satisfaction \u001b[38;5;241m=\u001b[39m \u001b[38;5;124mf\u001b[39m\u001b[38;5;124m\"\u001b[39m\u001b[38;5;124mINSERT INTO SATISFACTION VALUES (\u001b[39m\u001b[38;5;132;01m{\u001b[39;00mrow[\u001b[38;5;124m'\u001b[39m\u001b[38;5;124mSATISFACTION_SK\u001b[39m\u001b[38;5;124m'\u001b[39m]\u001b[38;5;132;01m}\u001b[39;00m\u001b[38;5;124m, \u001b[39m\u001b[38;5;132;01m{\u001b[39;00mrow[\u001b[38;5;124m'\u001b[39m\u001b[38;5;124mSATISFACTION_YEAR_number\u001b[39m\u001b[38;5;124m'\u001b[39m]\u001b[38;5;132;01m}\u001b[39;00m\u001b[38;5;124m,\u001b[39m\u001b[38;5;124m'\u001b[39m\u001b[38;5;132;01m{\u001b[39;00mrow[\u001b[38;5;124m'\u001b[39m\u001b[38;5;124mSATISFACTION_STAFF_id\u001b[39m\u001b[38;5;124m'\u001b[39m]\u001b[38;5;132;01m}\u001b[39;00m\u001b[38;5;124m'\u001b[39m\u001b[38;5;124m, \u001b[39m\u001b[38;5;124m'\u001b[39m\u001b[38;5;132;01m{\u001b[39;00mrow[\u001b[38;5;124m'\u001b[39m\u001b[38;5;124mSATISFACTION_TYPE_id\u001b[39m\u001b[38;5;124m'\u001b[39m]\u001b[38;5;132;01m}\u001b[39;00m\u001b[38;5;124m'\u001b[39m\u001b[38;5;124m, \u001b[39m\u001b[38;5;124m'\u001b[39m\u001b[38;5;132;01m{\u001b[39;00mrow[\u001b[38;5;124m'\u001b[39m\u001b[38;5;124mSATISFACTION_TYPE_description\u001b[39m\u001b[38;5;124m'\u001b[39m]\u001b[38;5;132;01m}\u001b[39;00m\u001b[38;5;124m'\u001b[39m\u001b[38;5;124m, \u001b[39m\u001b[38;5;124m'\u001b[39m\u001b[38;5;132;01m{\u001b[39;00mrow[\u001b[38;5;124m'\u001b[39m\u001b[38;5;124mSALES_FSK\u001b[39m\u001b[38;5;124m'\u001b[39m]\u001b[38;5;132;01m}\u001b[39;00m\u001b[38;5;124m'\u001b[39m\u001b[38;5;124m, \u001b[39m\u001b[38;5;124m'\u001b[39m\u001b[38;5;132;01m{\u001b[39;00mrow[\u001b[38;5;124m'\u001b[39m\u001b[38;5;124mChangedate\u001b[39m\u001b[38;5;124m'\u001b[39m]\u001b[38;5;132;01m}\u001b[39;00m\u001b[38;5;124m'\u001b[39m\u001b[38;5;124m)\u001b[39m\u001b[38;5;124m\"\u001b[39m\n\u001b[1;32m----> 3\u001b[0m \u001b[43mexport_cursor\u001b[49m\u001b[38;5;241;43m.\u001b[39;49m\u001b[43mexecute\u001b[49m\u001b[43m(\u001b[49m\u001b[43mquery_satisfaction\u001b[49m\u001b[43m)\u001b[49m\n\u001b[0;32m      4\u001b[0m \u001b[38;5;28;01mfor\u001b[39;00m index, row \u001b[38;5;129;01min\u001b[39;00m dbobject2\u001b[38;5;241m.\u001b[39miterrows():\n\u001b[0;32m      5\u001b[0m     query_sales \u001b[38;5;241m=\u001b[39m \u001b[38;5;124mf\u001b[39m\u001b[38;5;124m\"\u001b[39m\u001b[38;5;124mINSERT INTO SALES VALUES (\u001b[39m\u001b[38;5;132;01m{\u001b[39;00mrow[\u001b[38;5;124m'\u001b[39m\u001b[38;5;124mSALES_SK\u001b[39m\u001b[38;5;124m'\u001b[39m]\u001b[38;5;132;01m}\u001b[39;00m\u001b[38;5;124m,\u001b[39m\u001b[38;5;124m'\u001b[39m\u001b[38;5;132;01m{\u001b[39;00mrow[\u001b[38;5;124m'\u001b[39m\u001b[38;5;124mSALES_STAFF_id\u001b[39m\u001b[38;5;124m'\u001b[39m]\u001b[38;5;132;01m}\u001b[39;00m\u001b[38;5;124m'\u001b[39m\u001b[38;5;124m, \u001b[39m\u001b[38;5;124m'\u001b[39m\u001b[38;5;132;01m{\u001b[39;00mrow[\u001b[38;5;124m'\u001b[39m\u001b[38;5;124mSALES_FIRST_name\u001b[39m\u001b[38;5;124m'\u001b[39m]\u001b[38;5;132;01m}\u001b[39;00m\u001b[38;5;124m'\u001b[39m\u001b[38;5;124m, \u001b[39m\u001b[38;5;124m'\u001b[39m\u001b[38;5;132;01m{\u001b[39;00mrow[\u001b[38;5;124m'\u001b[39m\u001b[38;5;124mSALES_LAST_name\u001b[39m\u001b[38;5;124m'\u001b[39m]\u001b[38;5;132;01m}\u001b[39;00m\u001b[38;5;124m'\u001b[39m\u001b[38;5;124m, \u001b[39m\u001b[38;5;124m'\u001b[39m\u001b[38;5;132;01m{\u001b[39;00mrow[\u001b[38;5;124m'\u001b[39m\u001b[38;5;124mSALES_EXTENSION_number\u001b[39m\u001b[38;5;124m'\u001b[39m]\u001b[38;5;132;01m}\u001b[39;00m\u001b[38;5;124m'\u001b[39m\u001b[38;5;124m, \u001b[39m\u001b[38;5;124m'\u001b[39m\u001b[38;5;132;01m{\u001b[39;00mrow[\u001b[38;5;124m'\u001b[39m\u001b[38;5;124mSALES_EMAIL_name\u001b[39m\u001b[38;5;124m'\u001b[39m]\u001b[38;5;132;01m}\u001b[39;00m\u001b[38;5;124m'\u001b[39m\u001b[38;5;124m, \u001b[39m\u001b[38;5;124m'\u001b[39m\u001b[38;5;132;01m{\u001b[39;00mrow[\u001b[38;5;124m'\u001b[39m\u001b[38;5;124mSALES_MANAGER_id\u001b[39m\u001b[38;5;124m'\u001b[39m]\u001b[38;5;132;01m}\u001b[39;00m\u001b[38;5;124m'\u001b[39m\u001b[38;5;124m, \u001b[39m\u001b[38;5;124m'\u001b[39m\u001b[38;5;132;01m{\u001b[39;00mrow[\u001b[38;5;124m'\u001b[39m\u001b[38;5;124mSALES_BRANCH_id\u001b[39m\u001b[38;5;124m'\u001b[39m]\u001b[38;5;132;01m}\u001b[39;00m\u001b[38;5;124m'\u001b[39m\u001b[38;5;124m, \u001b[39m\u001b[38;5;124m'\u001b[39m\u001b[38;5;132;01m{\u001b[39;00mrow[\u001b[38;5;124m'\u001b[39m\u001b[38;5;124mSALES_ADDRESS1_name\u001b[39m\u001b[38;5;124m'\u001b[39m]\u001b[38;5;132;01m}\u001b[39;00m\u001b[38;5;124m'\u001b[39m\u001b[38;5;124m, \u001b[39m\u001b[38;5;124m'\u001b[39m\u001b[38;5;132;01m{\u001b[39;00mrow[\u001b[38;5;124m'\u001b[39m\u001b[38;5;124mSALES_ADDRESS2_name\u001b[39m\u001b[38;5;124m'\u001b[39m]\u001b[38;5;132;01m}\u001b[39;00m\u001b[38;5;124m'\u001b[39m\u001b[38;5;124m, \u001b[39m\u001b[38;5;124m'\u001b[39m\u001b[38;5;132;01m{\u001b[39;00mrow[\u001b[38;5;124m'\u001b[39m\u001b[38;5;124mSALES_POSITION_name\u001b[39m\u001b[38;5;124m'\u001b[39m]\u001b[38;5;132;01m}\u001b[39;00m\u001b[38;5;124m'\u001b[39m\u001b[38;5;124m, \u001b[39m\u001b[38;5;124m'\u001b[39m\u001b[38;5;132;01m{\u001b[39;00mrow[\u001b[38;5;124m'\u001b[39m\u001b[38;5;124mSALES_WORK_PHONE_number\u001b[39m\u001b[38;5;124m'\u001b[39m]\u001b[38;5;132;01m}\u001b[39;00m\u001b[38;5;124m'\u001b[39m\u001b[38;5;124m, \u001b[39m\u001b[38;5;124m'\u001b[39m\u001b[38;5;132;01m{\u001b[39;00mrow[\u001b[38;5;124m'\u001b[39m\u001b[38;5;124mSALES_FAX_number\u001b[39m\u001b[38;5;124m'\u001b[39m]\u001b[38;5;132;01m}\u001b[39;00m\u001b[38;5;124m'\u001b[39m\u001b[38;5;124m, \u001b[39m\u001b[38;5;124m'\u001b[39m\u001b[38;5;132;01m{\u001b[39;00mrow[\u001b[38;5;124m'\u001b[39m\u001b[38;5;124mSALES_HIRED_date\u001b[39m\u001b[38;5;124m'\u001b[39m]\u001b[38;5;132;01m}\u001b[39;00m\u001b[38;5;124m'\u001b[39m\u001b[38;5;124m, \u001b[39m\u001b[38;5;124m'\u001b[39m\u001b[38;5;132;01m{\u001b[39;00mrow[\u001b[38;5;124m'\u001b[39m\u001b[38;5;124mSALES_COUNTRY_id\u001b[39m\u001b[38;5;124m'\u001b[39m]\u001b[38;5;132;01m}\u001b[39;00m\u001b[38;5;124m'\u001b[39m\u001b[38;5;124m, \u001b[39m\u001b[38;5;124m'\u001b[39m\u001b[38;5;132;01m{\u001b[39;00mrow[\u001b[38;5;124m'\u001b[39m\u001b[38;5;124mSALES_REGION_name\u001b[39m\u001b[38;5;124m'\u001b[39m]\u001b[38;5;132;01m}\u001b[39;00m\u001b[38;5;124m'\u001b[39m\u001b[38;5;124m, \u001b[39m\u001b[38;5;124m'\u001b[39m\u001b[38;5;132;01m{\u001b[39;00mrow[\u001b[38;5;124m'\u001b[39m\u001b[38;5;124mSALES_CITY_name\u001b[39m\u001b[38;5;124m'\u001b[39m]\u001b[38;5;132;01m}\u001b[39;00m\u001b[38;5;124m'\u001b[39m\u001b[38;5;124m, \u001b[39m\u001b[38;5;124m'\u001b[39m\u001b[38;5;132;01m{\u001b[39;00mrow[\u001b[38;5;124m'\u001b[39m\u001b[38;5;124mSALES_POSTAL_ZONE_name\u001b[39m\u001b[38;5;124m'\u001b[39m]\u001b[38;5;132;01m}\u001b[39;00m\u001b[38;5;124m'\u001b[39m\u001b[38;5;124m, \u001b[39m\u001b[38;5;124m'\u001b[39m\u001b[38;5;132;01m{\u001b[39;00mrow[\u001b[38;5;124m'\u001b[39m\u001b[38;5;124mSALES_FSK\u001b[39m\u001b[38;5;124m'\u001b[39m]\u001b[38;5;132;01m}\u001b[39;00m\u001b[38;5;124m'\u001b[39m\u001b[38;5;124m, \u001b[39m\u001b[38;5;124m'\u001b[39m\u001b[38;5;132;01m{\u001b[39;00mrow[\u001b[38;5;124m'\u001b[39m\u001b[38;5;124mChangedate\u001b[39m\u001b[38;5;124m'\u001b[39m]\u001b[38;5;132;01m}\u001b[39;00m\u001b[38;5;124m'\u001b[39m\u001b[38;5;124m)\u001b[39m\u001b[38;5;124m\"\u001b[39m\n",
      "\u001b[1;31mDataError\u001b[0m: ('22018', \"[22018] [Microsoft][ODBC SQL Server Driver][SQL Server]Conversion failed when converting the varchar value '     \\n0  37' to data type int. (245) (SQLExecDirectW)\")"
     ]
    }
   ],
   "source": [
    "for index, row in dbobject.iterrows():\n",
    "    query_satisfaction = f\"INSERT INTO SATISFACTION VALUES ({row['SATISFACTION_SK']}, {row['SATISFACTION_YEAR_number']},'{row['SATISFACTION_STAFF_id']}', '{row['SATISFACTION_TYPE_id']}', '{row['SATISFACTION_TYPE_description']}', '{row['SALES_FSK']}', '{row['Changedate']}')\"\n",
    "export_cursor.execute(query_satisfaction)\n",
    "for index, row in dbobject2.iterrows():\n",
    "    query_sales = f\"INSERT INTO SALES VALUES ({row['SALES_SK']},'{row['SALES_STAFF_id']}', '{row['SALES_FIRST_name']}', '{row['SALES_LAST_name']}', '{row['SALES_EXTENSION_number']}', '{row['SALES_EMAIL_name']}', '{row['SALES_MANAGER_id']}', '{row['SALES_BRANCH_id']}', '{row['SALES_ADDRESS1_name']}', '{row['SALES_ADDRESS2_name']}', '{row['SALES_POSITION_name']}', '{row['SALES_WORK_PHONE_number']}', '{row['SALES_FAX_number']}', '{row['SALES_HIRED_date']}', '{row['SALES_COUNTRY_id']}', '{row['SALES_REGION_name']}', '{row['SALES_CITY_name']}', '{row['SALES_POSTAL_ZONE_name']}', '{row['SALES_FSK']}', '{row['Changedate']}')\"\n",
    "export_cursor.execute(query_sales)\n",
    "\n",
    "export_conn.commit()\n",
    "export_cursor.close()"
   ]
  },
  {
   "cell_type": "code",
   "execution_count": null,
   "metadata": {},
   "outputs": [],
   "source": [
    "dbobject.to_sql('SATISFACTION', sqlite_connectie, if_exists='replace', index = False)\n",
    "dbobject2.to_sql('SALES', sqlite_connectie, if_exists='replace', index = False)"
   ]
  }
 ],
 "metadata": {
  "kernelspec": {
   "display_name": "Python 3",
   "language": "python",
   "name": "python3"
  },
  "language_info": {
   "codemirror_mode": {
    "name": "ipython",
    "version": 3
   },
   "file_extension": ".py",
   "mimetype": "text/x-python",
   "name": "python",
   "nbconvert_exporter": "python",
   "pygments_lexer": "ipython3",
   "version": "3.10.13"
  }
 },
 "nbformat": 4,
 "nbformat_minor": 2
}
