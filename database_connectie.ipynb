{
 "cells": [
  {
   "cell_type": "code",
   "execution_count": 10,
   "metadata": {},
   "outputs": [],
   "source": [
    "import pandas as pd\n",
    "import pyodbc\n",
    "import sqlite3\n",
    "from datetime import datetime"
   ]
  },
  {
   "cell_type": "code",
   "execution_count": 21,
   "metadata": {},
   "outputs": [
    {
     "data": {
      "text/plain": [
       "'21/03/2024 09:44:46'"
      ]
     },
     "execution_count": 21,
     "metadata": {},
     "output_type": "execute_result"
    }
   ],
   "source": [
    "DB = {'servername': r'DESKTOP-I3QFF0F\\SQLEXPRESS', 'database': 'DWH'}\n",
    "now = datetime.now()\n",
    "sqlite_connectie = sqlite3.connect('DWH')\n",
    "export_conn = pyodbc.connect('DRIVER={SQL Server};SERVER=' + DB['servername'] + ';DATABASE=' + DB['database'] + ';Trusted_Connection=yes')\n",
    "export_cursor = export_conn.cursor()\n",
    "export_cursor\n",
    "\n",
    "\n",
    "current_time= now.strftime(\"%d/%m/%Y %H:%M:%S\")\n",
    "current_time"
   ]
  },
  {
   "cell_type": "code",
   "execution_count": 22,
   "metadata": {},
   "outputs": [
    {
     "name": "stderr",
     "output_type": "stream",
     "text": [
      "C:\\Users\\Alvaro\\AppData\\Local\\Temp\\ipykernel_90656\\2675697234.py:3: UserWarning: pandas only supports SQLAlchemy connectable (engine/connection) or database string URI or sqlite3 DBAPI2 connection. Other DBAPI2 objects are not tested. Please consider using SQLAlchemy.\n",
      "  'SATISFACTION_SK' : [(pd.read_sql_query('SELECT MAX(SATISFACTION_SK) FROM SATISFACTION', export_conn) + 1).iloc[0, 0]],\n",
      "C:\\Users\\Alvaro\\AppData\\Local\\Temp\\ipykernel_90656\\2675697234.py:8: UserWarning: pandas only supports SQLAlchemy connectable (engine/connection) or database string URI or sqlite3 DBAPI2 connection. Other DBAPI2 objects are not tested. Please consider using SQLAlchemy.\n",
      "  'SALES_FSK': [(pd.read_sql_query(\"select MAX(SALES_SK) from SALES where SALES_STAFF_id = \" + str(staff_id), export_conn)).iloc[0, 0]],\n"
     ]
    }
   ],
   "source": [
    "staff_id = 12\n",
    "satisfaction_data = {\n",
    "    'SATISFACTION_SK' : [(pd.read_sql_query('SELECT MAX(SATISFACTION_SK) FROM SATISFACTION', export_conn) + 1).iloc[0, 0]],\n",
    "    'SATISFACTION_YEAR_number': [2010],\n",
    "    'SATISFACTION_STAFF_id': [staff_id],\n",
    "    'SATISFACTION_TYPE_id': [1],\n",
    "    'SATISFACTION_TYPE_description': [\"goed\"],\n",
    "    'SALES_FSK': [(pd.read_sql_query(\"select MAX(SALES_SK) from SALES where SALES_STAFF_id = \" + str(staff_id), export_conn)).iloc[0, 0]],\n",
    "    'Changedate': [current_time]\n",
    "}\n",
    "\n",
    "dbobject = pd.DataFrame(satisfaction_data)\n",
    "\n",
    "for index, row in dbobject.iterrows():\n",
    "    query_satisfaction = f\"INSERT INTO SATISFACTION VALUES ({row['SATISFACTION_SK']}, {row['SATISFACTION_YEAR_number']},'{row['SATISFACTION_STAFF_id']}', '{row['SATISFACTION_TYPE_id']}', '{row['SATISFACTION_TYPE_description']}', '{row['SALES_FSK']}', '{row['Changedate']}')\"\n",
    "export_cursor.execute(query_satisfaction)\n",
    "\n",
    "export_conn.commit()"
   ]
  },
  {
   "cell_type": "code",
   "execution_count": 23,
   "metadata": {},
   "outputs": [
    {
     "name": "stderr",
     "output_type": "stream",
     "text": [
      "C:\\Users\\Alvaro\\AppData\\Local\\Temp\\ipykernel_90656\\2442863832.py:4: UserWarning: pandas only supports SQLAlchemy connectable (engine/connection) or database string URI or sqlite3 DBAPI2 connection. Other DBAPI2 objects are not tested. Please consider using SQLAlchemy.\n",
      "  SK = (pd.read_sql_query(f'SELECT MAX({table}_SK) FROM {table}', export_conn) + 1).iloc[0, 0]\n",
      "C:\\Users\\Alvaro\\AppData\\Local\\Temp\\ipykernel_90656\\2442863832.py:29: UserWarning: pandas only supports SQLAlchemy connectable (engine/connection) or database string URI or sqlite3 DBAPI2 connection. Other DBAPI2 objects are not tested. Please consider using SQLAlchemy.\n",
      "  'SALES_FSK' : [(pd.read_sql_query(\"select MAX(SALES_SK) from SALES where SALES_STAFF_id = \" + str(13), export_conn)).iloc[0, 0]],\n"
     ]
    }
   ],
   "source": [
    "sales_staff_id = 12\n",
    "\n",
    "def changeSK(tables, table, id):\n",
    "    SK = (pd.read_sql_query(f'SELECT MAX({table}_SK) FROM {table}', export_conn) + 1).iloc[0, 0]\n",
    "    for tbl, tbl_name in tables:\n",
    "        query_change = f\"UPDATE {tbl_name} SET {table}_FSK = {SK} WHERE {tbl_name}_STAFF_id = {id}\"\n",
    "        export_cursor.execute(query_change)\n",
    "    return SK\n",
    "\n",
    "sales_data = { \n",
    "    'SALES_SK':[changeSK([(\"tabel1\", \"SALES\"),(\"tabel2\", \"SATISFACTION\")], \"SALES\", sales_staff_id)],\n",
    "    'SALES_STAFF_id':[sales_staff_id],\n",
    "    'SALES_FIRST_name':[\"Hans\"],\n",
    "    'SALES_LAST_name':[\"Koning\"],\n",
    "    'SALES_EXTENSION_number':[25],\n",
    "    'SALES_EMAIL_name':[\"@mail.com\"],\n",
    "    'SALES_MANAGER_id':[11],\n",
    "    'SALES_BRANCH_id':[3],\n",
    "    'SALES_ADDRESS1_name':[\"straat3\"],\n",
    "    'SALES_ADDRESS2_name':[\"straat4\"],\n",
    "    'SALES_POSITION_name':[\"boss\"],\n",
    "    'SALES_WORK_PHONE_number':[12345],\n",
    "    'SALES_FAX_number':[12],\n",
    "    'SALES_HIRED_date' : [\"5/12/2024\"],\n",
    "    'SALES_COUNTRY_id' : [3],\n",
    "    'SALES_REGION_name' : [\"W\"],\n",
    "    'SALES_CITY_name' : [\"Utrecht\"],\n",
    "    'SALES_POSTAL_ZONE_name' : [\"2325KL\"],\n",
    "    'SALES_FSK' : [(pd.read_sql_query(\"select MAX(SALES_SK) from SALES where SALES_STAFF_id = \" + str(13), export_conn)).iloc[0, 0]],\n",
    "    'Changedate': [current_time]\n",
    "}\n",
    "\n",
    "dbobject2 = pd.DataFrame(sales_data)\n",
    "\n",
    "for index, row in dbobject2.iterrows():\n",
    "    query_sales = f\"INSERT INTO SALES VALUES ({row['SALES_SK']},'{row['SALES_STAFF_id']}', '{row['SALES_FIRST_name']}', '{row['SALES_LAST_name']}', '{row['SALES_EXTENSION_number']}', '{row['SALES_EMAIL_name']}', '{row['SALES_MANAGER_id']}', '{row['SALES_BRANCH_id']}', '{row['SALES_ADDRESS1_name']}', '{row['SALES_ADDRESS2_name']}', '{row['SALES_POSITION_name']}', '{row['SALES_WORK_PHONE_number']}', '{row['SALES_FAX_number']}', '{row['SALES_HIRED_date']}', '{row['SALES_COUNTRY_id']}', '{row['SALES_REGION_name']}', '{row['SALES_CITY_name']}', '{row['SALES_POSTAL_ZONE_name']}', '{row['SALES_FSK']}', '{row['Changedate']}')\"\n",
    "export_cursor.execute(query_sales)\n",
    "\n",
    "export_conn.commit()"
   ]
  },
  {
   "cell_type": "code",
   "execution_count": 32,
   "metadata": {},
   "outputs": [],
   "source": [
    "COURSE = [\n",
    "    \"COURSE_id\",\n",
    "    \"COURSE_description\"\n",
    "]\n",
    "\n",
    "DATE = [\n",
    "    \"DAY_date\"\n",
    "]\n",
    "\n",
    "GO_SALES_INVENTORY = [\n",
    "    \"GO_SALES_INVENTORY_PRODUCT_number\",\n",
    "    \"GO_SALES_INVENTORY_INVENTORY_YEAR\",\n",
    "    \"GO_SALES_INVENTORY_INVENTORY_MONTH_number\",\n",
    "    \"GO_SALES_INVENTORY_EXPECTED_VOLUME_number\",\n",
    "    \"GO_SALES_INVENTORY_INVENTORY_COUNT_number\"\n",
    "]\n",
    "\n",
    "MONTH = [\n",
    "    \"MONTH_number\"\n",
    "]\n",
    "\n",
    "ORDER = {\n",
    "    \"ORDER_id\"\n",
    "    \"ORDER_DETAILS_id\"\n",
    "    \"ORDER_RETAILER_name\"\n",
    "    \"ORDER_RETAILER_SITE_id\"\n",
    "    \"ORDER_SALES_STAFF_id\"\n",
    "    \"ORDER_SALES_BREANCH_id\"\n",
    "    \"ORDER_date\"\n",
    "    \"ORDER_METHOD_id\"\n",
    "    \"ORDER_PRODUCT_id\"\n",
    "    \"ORDER_QUANTITY_id\"\n",
    "    \"ORDER_UNIT_COST_price\"\n",
    "    \"ORDER_UNIT_price\"\n",
    "    \"ORDER_UNIT_SALE_price\"\n",
    "    \"ORDER_RETAILER_CONTACT_id\"\n",
    "} \n",
    "\n",
    "PRODUCT = [\n",
    "    \"PRODUCT_id\"\n",
    "    \"PRODUCT_name\"\n",
    "    \"PRODUCT_description\"\n",
    "    \"PRODUCT_img\"\n",
    "    \"PRODUCT_LINE_id\"\n",
    "    \"PRODUCT_LINE_name\"\n",
    "    \"PRODUCT_TYPE_id\"\n",
    "    \"PRODUCT_INTRODUCTION_date\"\n",
    "    \"PRODUCT_MARGIN_number\"\n",
    "    \"PRODUCT_LANGUAGE_name\"\n",
    "    \"PRODUCT_COST_price\"\n",
    "]\n",
    "\n",
    "RETAILER = [\n",
    "    \"RETAILER_SITE_id\"\n",
    "    \"RETAILER_COMPANY_name\"\n",
    "    \"RETAILER_MR_id\"\n",
    "    \"RETAILER_TYPE_name\"\n",
    "    \"RETAILER_TYPE_id\"\n",
    "    \"RETAILER_ADDRESS1_name\"\n",
    "    \"RETAILER_ADDRESS2_name\"\n",
    "    \"RETAILER_id\"\n",
    "    \"RETAILER_COUNTRY_id\"\n",
    "    \"RETAILER_REGION_name\"\n",
    "    \"RETAILER_CITY_name\"\n",
    "    \"RETAILER_POSTAL_ZONE_name\"\n",
    "    \"RETAILER_ACTIVE_INDICATOR_number\"\n",
    "    \"RETAILER_name\"\n",
    "    \"RETAILER_FAX_number\"\n",
    "    \"RETAILER_HEADQUARTERS_ADDRESS1_name\"\n",
    "    \"RETAILER_HEADQUARTERS_ADDRESS2_name\"\n",
    "    \"RETAILER_HEADQUARTERS_COUNTRY_id\"\n",
    "    \"RETAILER_HEADQUARTERS_REGION_name\"\n",
    "    \"RETAILER_HEADQUARTERS_CITY_name\"\n",
    "    \"RETAILER_HEADQUARTERS_POSTAL_ZONE_name\"\n",
    "    \"RETAILER_SEGMENT_id\"\n",
    "]\n",
    "\n",
    "RETURNED_ITEM = [\n",
    "    \"RETURNED_ITEM_id\"\n",
    "    \"RETURNED_ITEM_date\"\n",
    "    \"RETURNED_ITEM_ORDER_DETAIL_id\"\n",
    "    \"\"\n",
    "    \"\"\n",
    "]\n"
   ]
  },
  {
   "cell_type": "code",
   "execution_count": 31,
   "metadata": {},
   "outputs": [
    {
     "ename": "DataError",
     "evalue": "('22018', \"[22018] [Microsoft][ODBC SQL Server Driver][SQL Server]Conversion failed when converting the varchar value '       \\n0  None' to data type int. (245) (SQLExecDirectW)\")",
     "output_type": "error",
     "traceback": [
      "\u001b[1;31m---------------------------------------------------------------------------\u001b[0m",
      "\u001b[1;31mDataError\u001b[0m                                 Traceback (most recent call last)",
      "Cell \u001b[1;32mIn[31], line 3\u001b[0m\n\u001b[0;32m      1\u001b[0m \u001b[38;5;28;01mfor\u001b[39;00m index, row \u001b[38;5;129;01min\u001b[39;00m dbobject2\u001b[38;5;241m.\u001b[39miterrows():\n\u001b[0;32m      2\u001b[0m     query_sales \u001b[38;5;241m=\u001b[39m \u001b[38;5;124mf\u001b[39m\u001b[38;5;124m\"\u001b[39m\u001b[38;5;124mINSERT INTO SALES VALUES (\u001b[39m\u001b[38;5;132;01m{\u001b[39;00mrow[\u001b[38;5;124m'\u001b[39m\u001b[38;5;124mSALES_SK\u001b[39m\u001b[38;5;124m'\u001b[39m]\u001b[38;5;132;01m}\u001b[39;00m\u001b[38;5;124m,\u001b[39m\u001b[38;5;124m'\u001b[39m\u001b[38;5;132;01m{\u001b[39;00mrow[\u001b[38;5;124m'\u001b[39m\u001b[38;5;124mSALES_STAFF_id\u001b[39m\u001b[38;5;124m'\u001b[39m]\u001b[38;5;132;01m}\u001b[39;00m\u001b[38;5;124m'\u001b[39m\u001b[38;5;124m, \u001b[39m\u001b[38;5;124m'\u001b[39m\u001b[38;5;132;01m{\u001b[39;00mrow[\u001b[38;5;124m'\u001b[39m\u001b[38;5;124mSALES_FIRST_name\u001b[39m\u001b[38;5;124m'\u001b[39m]\u001b[38;5;132;01m}\u001b[39;00m\u001b[38;5;124m'\u001b[39m\u001b[38;5;124m, \u001b[39m\u001b[38;5;124m'\u001b[39m\u001b[38;5;132;01m{\u001b[39;00mrow[\u001b[38;5;124m'\u001b[39m\u001b[38;5;124mSALES_LAST_name\u001b[39m\u001b[38;5;124m'\u001b[39m]\u001b[38;5;132;01m}\u001b[39;00m\u001b[38;5;124m'\u001b[39m\u001b[38;5;124m, \u001b[39m\u001b[38;5;124m'\u001b[39m\u001b[38;5;132;01m{\u001b[39;00mrow[\u001b[38;5;124m'\u001b[39m\u001b[38;5;124mSALES_EXTENSION_number\u001b[39m\u001b[38;5;124m'\u001b[39m]\u001b[38;5;132;01m}\u001b[39;00m\u001b[38;5;124m'\u001b[39m\u001b[38;5;124m, \u001b[39m\u001b[38;5;124m'\u001b[39m\u001b[38;5;132;01m{\u001b[39;00mrow[\u001b[38;5;124m'\u001b[39m\u001b[38;5;124mSALES_EMAIL_name\u001b[39m\u001b[38;5;124m'\u001b[39m]\u001b[38;5;132;01m}\u001b[39;00m\u001b[38;5;124m'\u001b[39m\u001b[38;5;124m, \u001b[39m\u001b[38;5;124m'\u001b[39m\u001b[38;5;132;01m{\u001b[39;00mrow[\u001b[38;5;124m'\u001b[39m\u001b[38;5;124mSALES_MANAGER_id\u001b[39m\u001b[38;5;124m'\u001b[39m]\u001b[38;5;132;01m}\u001b[39;00m\u001b[38;5;124m'\u001b[39m\u001b[38;5;124m, \u001b[39m\u001b[38;5;124m'\u001b[39m\u001b[38;5;132;01m{\u001b[39;00mrow[\u001b[38;5;124m'\u001b[39m\u001b[38;5;124mSALES_BRANCH_id\u001b[39m\u001b[38;5;124m'\u001b[39m]\u001b[38;5;132;01m}\u001b[39;00m\u001b[38;5;124m'\u001b[39m\u001b[38;5;124m, \u001b[39m\u001b[38;5;124m'\u001b[39m\u001b[38;5;132;01m{\u001b[39;00mrow[\u001b[38;5;124m'\u001b[39m\u001b[38;5;124mSALES_ADDRESS1_name\u001b[39m\u001b[38;5;124m'\u001b[39m]\u001b[38;5;132;01m}\u001b[39;00m\u001b[38;5;124m'\u001b[39m\u001b[38;5;124m, \u001b[39m\u001b[38;5;124m'\u001b[39m\u001b[38;5;132;01m{\u001b[39;00mrow[\u001b[38;5;124m'\u001b[39m\u001b[38;5;124mSALES_ADDRESS2_name\u001b[39m\u001b[38;5;124m'\u001b[39m]\u001b[38;5;132;01m}\u001b[39;00m\u001b[38;5;124m'\u001b[39m\u001b[38;5;124m, \u001b[39m\u001b[38;5;124m'\u001b[39m\u001b[38;5;132;01m{\u001b[39;00mrow[\u001b[38;5;124m'\u001b[39m\u001b[38;5;124mSALES_POSITION_name\u001b[39m\u001b[38;5;124m'\u001b[39m]\u001b[38;5;132;01m}\u001b[39;00m\u001b[38;5;124m'\u001b[39m\u001b[38;5;124m, \u001b[39m\u001b[38;5;124m'\u001b[39m\u001b[38;5;132;01m{\u001b[39;00mrow[\u001b[38;5;124m'\u001b[39m\u001b[38;5;124mSALES_WORK_PHONE_number\u001b[39m\u001b[38;5;124m'\u001b[39m]\u001b[38;5;132;01m}\u001b[39;00m\u001b[38;5;124m'\u001b[39m\u001b[38;5;124m, \u001b[39m\u001b[38;5;124m'\u001b[39m\u001b[38;5;132;01m{\u001b[39;00mrow[\u001b[38;5;124m'\u001b[39m\u001b[38;5;124mSALES_FAX_number\u001b[39m\u001b[38;5;124m'\u001b[39m]\u001b[38;5;132;01m}\u001b[39;00m\u001b[38;5;124m'\u001b[39m\u001b[38;5;124m, \u001b[39m\u001b[38;5;124m'\u001b[39m\u001b[38;5;132;01m{\u001b[39;00mrow[\u001b[38;5;124m'\u001b[39m\u001b[38;5;124mSALES_HIRED_date\u001b[39m\u001b[38;5;124m'\u001b[39m]\u001b[38;5;132;01m}\u001b[39;00m\u001b[38;5;124m'\u001b[39m\u001b[38;5;124m, \u001b[39m\u001b[38;5;124m'\u001b[39m\u001b[38;5;132;01m{\u001b[39;00mrow[\u001b[38;5;124m'\u001b[39m\u001b[38;5;124mSALES_COUNTRY_id\u001b[39m\u001b[38;5;124m'\u001b[39m]\u001b[38;5;132;01m}\u001b[39;00m\u001b[38;5;124m'\u001b[39m\u001b[38;5;124m, \u001b[39m\u001b[38;5;124m'\u001b[39m\u001b[38;5;132;01m{\u001b[39;00mrow[\u001b[38;5;124m'\u001b[39m\u001b[38;5;124mSALES_REGION_name\u001b[39m\u001b[38;5;124m'\u001b[39m]\u001b[38;5;132;01m}\u001b[39;00m\u001b[38;5;124m'\u001b[39m\u001b[38;5;124m, \u001b[39m\u001b[38;5;124m'\u001b[39m\u001b[38;5;132;01m{\u001b[39;00mrow[\u001b[38;5;124m'\u001b[39m\u001b[38;5;124mSALES_CITY_name\u001b[39m\u001b[38;5;124m'\u001b[39m]\u001b[38;5;132;01m}\u001b[39;00m\u001b[38;5;124m'\u001b[39m\u001b[38;5;124m, \u001b[39m\u001b[38;5;124m'\u001b[39m\u001b[38;5;132;01m{\u001b[39;00mrow[\u001b[38;5;124m'\u001b[39m\u001b[38;5;124mSALES_POSTAL_ZONE_name\u001b[39m\u001b[38;5;124m'\u001b[39m]\u001b[38;5;132;01m}\u001b[39;00m\u001b[38;5;124m'\u001b[39m\u001b[38;5;124m, \u001b[39m\u001b[38;5;124m'\u001b[39m\u001b[38;5;132;01m{\u001b[39;00mrow[\u001b[38;5;124m'\u001b[39m\u001b[38;5;124mSALES_FSK\u001b[39m\u001b[38;5;124m'\u001b[39m]\u001b[38;5;132;01m}\u001b[39;00m\u001b[38;5;124m'\u001b[39m\u001b[38;5;124m, \u001b[39m\u001b[38;5;124m'\u001b[39m\u001b[38;5;132;01m{\u001b[39;00mrow[\u001b[38;5;124m'\u001b[39m\u001b[38;5;124mChangedate\u001b[39m\u001b[38;5;124m'\u001b[39m]\u001b[38;5;132;01m}\u001b[39;00m\u001b[38;5;124m'\u001b[39m\u001b[38;5;124m)\u001b[39m\u001b[38;5;124m\"\u001b[39m\n\u001b[1;32m----> 3\u001b[0m \u001b[43mexport_cursor\u001b[49m\u001b[38;5;241;43m.\u001b[39;49m\u001b[43mexecute\u001b[49m\u001b[43m(\u001b[49m\u001b[43mquery_sales\u001b[49m\u001b[43m)\u001b[49m\n\u001b[0;32m      5\u001b[0m export_conn\u001b[38;5;241m.\u001b[39mcommit()\n",
      "\u001b[1;31mDataError\u001b[0m: ('22018', \"[22018] [Microsoft][ODBC SQL Server Driver][SQL Server]Conversion failed when converting the varchar value '       \\n0  None' to data type int. (245) (SQLExecDirectW)\")"
     ]
    }
   ],
   "source": [
    "for index, row in dbobject2.iterrows():\n",
    "    query_sales = f\"INSERT INTO SALES VALUES ({row['SALES_SK']},'{row['SALES_STAFF_id']}', '{row['SALES_FIRST_name']}', '{row['SALES_LAST_name']}', '{row['SALES_EXTENSION_number']}', '{row['SALES_EMAIL_name']}', '{row['SALES_MANAGER_id']}', '{row['SALES_BRANCH_id']}', '{row['SALES_ADDRESS1_name']}', '{row['SALES_ADDRESS2_name']}', '{row['SALES_POSITION_name']}', '{row['SALES_WORK_PHONE_number']}', '{row['SALES_FAX_number']}', '{row['SALES_HIRED_date']}', '{row['SALES_COUNTRY_id']}', '{row['SALES_REGION_name']}', '{row['SALES_CITY_name']}', '{row['SALES_POSTAL_ZONE_name']}', '{row['SALES_FSK']}', '{row['Changedate']}')\"\n",
    "export_cursor.execute(query_sales)\n",
    "\n",
    "export_conn.commit()"
   ]
  },
  {
   "cell_type": "code",
   "execution_count": 19,
   "metadata": {},
   "outputs": [],
   "source": [
    "export_conn.close()"
   ]
  }
 ],
 "metadata": {
  "kernelspec": {
   "display_name": "Python 3",
   "language": "python",
   "name": "python3"
  },
  "language_info": {
   "codemirror_mode": {
    "name": "ipython",
    "version": 3
   },
   "file_extension": ".py",
   "mimetype": "text/x-python",
   "name": "python",
   "nbconvert_exporter": "python",
   "pygments_lexer": "ipython3",
   "version": "3.12.2"
  }
 },
 "nbformat": 4,
 "nbformat_minor": 2
}
