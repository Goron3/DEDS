{
 "cells": [
  {
   "cell_type": "code",
   "execution_count": 36,
   "metadata": {},
   "outputs": [],
   "source": [
    "import pandas as pd\n",
    "import pyodbc\n",
    "import sqlite3\n",
    "from datetime import datetime"
   ]
  },
  {
   "cell_type": "code",
   "execution_count": 40,
   "metadata": {},
   "outputs": [
    {
     "data": {
      "text/plain": [
       "'18/03/2024 15:14:06'"
      ]
     },
     "execution_count": 40,
     "metadata": {},
     "output_type": "execute_result"
    }
   ],
   "source": [
    "DB = {'servername': r'DESKTOP-I3QFF0F\\SQLEXPRESS', 'database': 'DWH'}\n",
    "now = datetime.now()\n",
    "sqlite_connectie = sqlite3.connect('DWH')\n",
    "export_conn = pyodbc.connect('DRIVER={SQL Server};SERVER=' + DB['servername'] + ';DATABASE=' + DB['database'] + ';Trusted_Connection=yes')\n",
    "export_cursor = export_conn.cursor()\n",
    "export_cursor\n",
    "\n",
    "\n",
    "current_time= now.strftime(\"%d/%m/%Y %H:%M:%S\")\n",
    "current_time"
   ]
  },
  {
   "cell_type": "code",
   "execution_count": null,
   "metadata": {},
   "outputs": [],
   "source": [
    "staff_id = 15\n",
    "satisfaction_data = {\n",
    "    'SATISFACTION_YEAR_number': [2015],\n",
    "    'SATISFACTION_STAFF_id': [staff_id],\n",
    "    'SATISFACTION_TYPE_id': [1],\n",
    "    'SATISFACTION_TYPE_description': [\"goed\"],\n",
    "    'SALES_FSK': [pd.read_sql_query(\"select MAX(SALES_SK) from SALES where SALES.SALES_STAFF_id = \" + str(staff_id), export_conn)],\n",
    "    'Changedate': [current_time]\n",
    "}\n",
    "\n",
    "#max_sales_sk = (pd.read_sql_query('SELECT MAX(SALES_SK) FROM SALES', export_conn) + 1).iloc[0, 0]\n",
    "sales_data = { \n",
    "    'SALES_SK':[changeSK([\"SALES\", \"SATISFACTION\"], \"SALES\")],\n",
    "    'SALES_STAFF_id':[15],\n",
    "    'SALES_FIRST_name':[\"Tim\"],\n",
    "    'SALES_LAST_name':[\"Visser\"],\n",
    "    'SALES_EXTENSION_number':[25],\n",
    "    'SALES_EMAIL_name':[\"@mail.com\"],\n",
    "    'SALES_MANAGER_id':[11],\n",
    "    'SALES_BRANCH_id':[3],\n",
    "    'SALES_ADDRESS1_name':[\"straat3\"],\n",
    "    'SALES_ADDRESS2_name':[\"straat4\"],\n",
    "    'SALES_POSITION_name':[\"boss\"],\n",
    "    'SALES_WORK_PHONE_number':[12345],\n",
    "    'SALES_FAX_number':[12],\n",
    "    'SALES_HIRED_date' : [\"5/12/2024\"],\n",
    "    'SALES_COUNTRY_id' : [3],\n",
    "    'SALES_REGION_name' : [\"W\"],\n",
    "    'SALES_CITY_name' : [\"Utrecht\"],\n",
    "    'SALES_POSTAL_ZONE_name' : [\"2325KL\"],\n",
    "    'SALES_FSK' : [],\n",
    "    'Changedate': [current_time]\n",
    "}\n",
    "\n",
    "dbobject = pd.DataFrame(satisfaction_data)\n",
    "data = pd.read_sql_query('SELECT * FROM SATISFACTION', sqlite_connectie)\n",
    "dbobject2 = pd.DataFrame(sales_data)\n",
    "pd.read_sql_query('SELECT * FROM SALES', sqlite_connectie)\n",
    "\n"
   ]
  },
  {
   "cell_type": "code",
   "execution_count": null,
   "metadata": {},
   "outputs": [],
   "source": [
    "def changeSK(tables, table):\n",
    "    SK = (pd.read_sql_query('SELECT MAX(' + table + '_SK) FROM ' + table, export_conn) + 1).iloc[0, 0]\n",
    "    #pd.read_sql_query(\"select * from \" + table + \" join \")\n",
    "    for i in tables:\n",
    "        query = pd.read_sql_query(\"SELECT \"+ tables[i] + \"_SFK FROM \"+ tables[i] + \" WHERE \", export_conn)\n",
    "        query[tables[i] + '_SFK'].replace(SK, inplace=True)\n",
    "        \n",
    "        for row in query.itertuples():\n",
    "            query_change = f\"UPDATE {tables[i]} SET {tables[i]}_SFK = {SK} WHERE {tables[i]}_SFK = {row[1]}\"\n",
    "            export_cursor.execute(query_change)\n",
    "    return SK\n",
    "\n"
   ]
  },
  {
   "cell_type": "code",
   "execution_count": null,
   "metadata": {},
   "outputs": [],
   "source": [
    "for index, row in dbobject.iterrows():\n",
    "    query_satisfaction = f\"INSERT INTO SATISFACTION VALUES ({row['SATISFACTION_YEAR_number']},'{row['SATISFACTION_STAFF_id']}', '{row['SATISFACTION_TYPE_id']}', '{row['SATISFACTION_TYPE_description']}', '{row['SALES_FSK']}', '{row['Changedate']}')\"\n",
    "export_cursor.execute(query_satisfaction)\n",
    "for index, row in dbobject2.iterrows():\n",
    "    query_sales = f\"INSERT INTO SALES VALUES ({row['SALES_SK']},'{row['SALES_STAFF_id']}', '{row['SALES_FIRST_name']}', '{row['SALES_LAST_name']}', '{row['SALES_EXTENSION_number']}', '{row['SALES_EMAIL_name']}', '{row['SALES_MANAGER_id']}', '{row['SALES_BRANCH_id']}', '{row['SALES_ADDRESS1_name']}', '{row['SALES_ADDRESS2_name']}', '{row['SALES_POSITION_name']}', '{row['SALES_WORK_PHONE_number']}', '{row['SALES_FAX_number']}', '{row['SALES_HIRED_date']}', '{row['SALES_COUNTRY_id']}', '{row['SALES_REGION_name']}', '{row['SALES_CITY_name']}', '{row['SALES_POSTAL_ZONE_name']}', '{row['SALES_FSK']}', '{row['Changedate']}')\"\n",
    "export_cursor.execute(query_sales)\n",
    "\n",
    "export_conn.commit()\n",
    "export_cursor.close()\n",
    "\n"
   ]
  },
  {
   "cell_type": "code",
   "execution_count": null,
   "metadata": {},
   "outputs": [],
   "source": [
    "dbobject.to_sql('SATISFACTION', sqlite_connectie, if_exists='replace', index = False)\n",
    "dbobject2.to_sql('SALES', sqlite_connectie, if_exists='replace', index = False)"
   ]
  }
 ],
 "metadata": {
  "kernelspec": {
   "display_name": "Python 3",
   "language": "python",
   "name": "python3"
  },
  "language_info": {
   "codemirror_mode": {
    "name": "ipython",
    "version": 3
   },
   "file_extension": ".py",
   "mimetype": "text/x-python",
   "name": "python",
   "nbconvert_exporter": "python",
   "pygments_lexer": "ipython3",
   "version": "3.12.2"
  }
 },
 "nbformat": 4,
 "nbformat_minor": 2
}
