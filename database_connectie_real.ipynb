{
 "cells": [
  {
   "cell_type": "code",
   "execution_count": 1,
   "metadata": {},
   "outputs": [
    {
     "ename": "NameError",
     "evalue": "name 'year' is not defined",
     "output_type": "error",
     "traceback": [
      "\u001b[0;31m---------------------------------------------------------------------------\u001b[0m",
      "\u001b[0;31mNameError\u001b[0m                                 Traceback (most recent call last)",
      "Cell \u001b[0;32mIn[1], line 3\u001b[0m\n\u001b[1;32m      1\u001b[0m \u001b[38;5;66;03m# Create a dictionary to map DataFrame names to table names in the database\u001b[39;00m\n\u001b[1;32m      2\u001b[0m dataframes \u001b[38;5;241m=\u001b[39m {\n\u001b[0;32m----> 3\u001b[0m     \u001b[38;5;124m'\u001b[39m\u001b[38;5;124myear\u001b[39m\u001b[38;5;124m'\u001b[39m: \u001b[43myear\u001b[49m,\n\u001b[1;32m      4\u001b[0m     \u001b[38;5;124m'\u001b[39m\u001b[38;5;124mdate\u001b[39m\u001b[38;5;124m'\u001b[39m: date,\n\u001b[1;32m      5\u001b[0m     \u001b[38;5;124m'\u001b[39m\u001b[38;5;124mmonth\u001b[39m\u001b[38;5;124m'\u001b[39m: month,\n\u001b[1;32m      6\u001b[0m     \u001b[38;5;124m'\u001b[39m\u001b[38;5;124mproduct\u001b[39m\u001b[38;5;124m'\u001b[39m: product,\n\u001b[1;32m      7\u001b[0m     \u001b[38;5;124m'\u001b[39m\u001b[38;5;124mcountry\u001b[39m\u001b[38;5;124m'\u001b[39m: country,\n\u001b[1;32m      8\u001b[0m     \u001b[38;5;124m'\u001b[39m\u001b[38;5;124mcourse\u001b[39m\u001b[38;5;124m'\u001b[39m: course,\n\u001b[1;32m      9\u001b[0m     \u001b[38;5;124m'\u001b[39m\u001b[38;5;124mgo_sales\u001b[39m\u001b[38;5;124m'\u001b[39m: go_sales,\n\u001b[1;32m     10\u001b[0m     \u001b[38;5;124m'\u001b[39m\u001b[38;5;124morder_method\u001b[39m\u001b[38;5;124m'\u001b[39m: order_method,\n\u001b[1;32m     11\u001b[0m     \u001b[38;5;124m'\u001b[39m\u001b[38;5;124mretailer_contact\u001b[39m\u001b[38;5;124m'\u001b[39m: retailer_contact,\n\u001b[1;32m     12\u001b[0m     \u001b[38;5;124m'\u001b[39m\u001b[38;5;124mreturn_reason\u001b[39m\u001b[38;5;124m'\u001b[39m: return_reason,\n\u001b[1;32m     13\u001b[0m     \u001b[38;5;124m'\u001b[39m\u001b[38;5;124mreturned_item\u001b[39m\u001b[38;5;124m'\u001b[39m: returned_item,\n\u001b[1;32m     14\u001b[0m     \u001b[38;5;124m'\u001b[39m\u001b[38;5;124msales_staff\u001b[39m\u001b[38;5;124m'\u001b[39m: sales_staff,\n\u001b[1;32m     15\u001b[0m     \u001b[38;5;124m'\u001b[39m\u001b[38;5;124msales_targetData\u001b[39m\u001b[38;5;124m'\u001b[39m: sales_targetData,\n\u001b[1;32m     16\u001b[0m     \u001b[38;5;124m'\u001b[39m\u001b[38;5;124msatisfaction_type\u001b[39m\u001b[38;5;124m'\u001b[39m: satisfaction_type,\n\u001b[1;32m     17\u001b[0m     \u001b[38;5;124m'\u001b[39m\u001b[38;5;124msatisfaction\u001b[39m\u001b[38;5;124m'\u001b[39m: satisfaction,\n\u001b[1;32m     18\u001b[0m     \u001b[38;5;124m'\u001b[39m\u001b[38;5;124mtraining\u001b[39m\u001b[38;5;124m'\u001b[39m: training,\n\u001b[1;32m     19\u001b[0m     \u001b[38;5;124m'\u001b[39m\u001b[38;5;124m[order]\u001b[39m\u001b[38;5;124m'\u001b[39m: order,\n\u001b[1;32m     20\u001b[0m }\n\u001b[1;32m     22\u001b[0m \u001b[38;5;66;03m# Update each table in the database with the respective DataFrame\u001b[39;00m\n\u001b[1;32m     23\u001b[0m \u001b[38;5;28;01mfor\u001b[39;00m table_name, df \u001b[38;5;129;01min\u001b[39;00m dataframes\u001b[38;5;241m.\u001b[39mitems():\n",
      "\u001b[0;31mNameError\u001b[0m: name 'year' is not defined"
     ]
    }
   ],
   "source": [
    "# Create a dictionary to map DataFrame names to table names in the database\n",
    "dataframes = {\n",
    "    'year': year,\n",
    "    'date': date,\n",
    "    'month': month,\n",
    "    'product': product,\n",
    "    'country': country,\n",
    "    'course': course,\n",
    "    'go_sales': go_sales,\n",
    "    'order_method': order_method,\n",
    "    'retailer_contact': retailer_contact,\n",
    "    'return_reason': return_reason,\n",
    "    'returned_item': returned_item,\n",
    "    'sales_staff': sales_staff,\n",
    "    'sales_targetData': sales_targetData,\n",
    "    'satisfaction_type': satisfaction_type,\n",
    "    'satisfaction': satisfaction,\n",
    "    'training': training,\n",
    "    '[order]': order,\n",
    "}\n",
    "\n",
    "# Update each table in the database with the respective DataFrame\n",
    "for table_name, df in dataframes.items():\n",
    "    print(table_name)\n",
    "    # Convert DataFrame to a list of tuples with missing values replaced by None\n",
    "    data = []\n",
    "    for row in df.values:\n",
    "        row = [None if pd.isna(value) or value == '<NA>' else value for value in row]\n",
    "        data.append(tuple(str(value) if value is not None else None for value in row))\n",
    "    \n",
    "    # Construct SQL query to replace data in the table\n",
    "    sql_delete_query = f\"DELETE FROM {table_name};\"\n",
    "    \n",
    "    # Execute SQL query to delete existing data from the table\n",
    "    GreatOrders_connection.execute(sql_delete_query)\n",
    "    \n",
    "    # Construct SQL query to insert new data into the table\n",
    "    num_columns = len(df.columns)\n",
    "    placeholders = ','.join(['?'] * num_columns)\n",
    "    sql_insert_query = f\"INSERT INTO {table_name} VALUES ({placeholders})\"\n",
    "    \n",
    "    # Execute individual insert statements for each row\n",
    "    for row in data:\n",
    "        print(row)\n",
    "        GreatOrders_connection.execute(sql_insert_query, row)\n",
    "\n",
    "# Commit the transaction\n",
    "GreatOrders_connection.commit()"
   ]
  }
 ],
 "metadata": {
  "kernelspec": {
   "display_name": "Python 3",
   "language": "python",
   "name": "python3"
  },
  "language_info": {
   "codemirror_mode": {
    "name": "ipython",
    "version": 3
   },
   "file_extension": ".py",
   "mimetype": "text/x-python",
   "name": "python",
   "nbconvert_exporter": "python",
   "pygments_lexer": "ipython3",
   "version": "3.10.13"
  }
 },
 "nbformat": 4,
 "nbformat_minor": 2
}
