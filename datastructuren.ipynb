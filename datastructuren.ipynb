{
 "cells": [
  {
   "cell_type": "code",
   "execution_count": 5,
   "metadata": {},
   "outputs": [
    {
     "data": {
      "text/plain": [
       "3"
      ]
     },
     "execution_count": 5,
     "metadata": {},
     "output_type": "execute_result"
    }
   ],
   "source": [
    "def linear_search(list, Target):\n",
    "    \n",
    "    for i in range(0,len(list), 1):\n",
    "        if(list[i] == Target):\n",
    "           return list[i]\n",
    "    \n",
    "linear_search(list = [0,3,6,7,2,3], Target = 3)"
   ]
  },
  {
   "cell_type": "code",
   "execution_count": 6,
   "metadata": {},
   "outputs": [
    {
     "data": {
      "text/plain": [
       "{'b': 1, 'a': 5, 'h': 1}"
      ]
     },
     "execution_count": 6,
     "metadata": {},
     "output_type": "execute_result"
    }
   ],
   "source": [
    "def character_frequency(text):\n",
    "    frequency = {}\n",
    "    for i in text:\n",
    "        if i in frequency:\n",
    "            frequency[i] += 1\n",
    "        else:\n",
    "            frequency[i] = 1\n",
    "    return frequency\n",
    "\n",
    "character_frequency(\"baaaaah\")"
   ]
  },
  {
   "cell_type": "code",
   "execution_count": 1,
   "metadata": {},
   "outputs": [
    {
     "name": "stdout",
     "output_type": "stream",
     "text": [
      "{1: 3, 2: 3, 3: 1, 4: 1}\n"
     ]
    }
   ],
   "source": [
    "def frequency_counter(lst):\n",
    "    freq = {}\n",
    "    for element in lst:\n",
    "        if element in freq:\n",
    "            freq[element] += 1\n",
    "        else:\n",
    "            freq[element] = 1\n",
    "    return freq\n",
    "\n",
    "lst = [1, 2, 3, 2, 4, 1, 1, 2]\n",
    "result = frequency_counter(lst)\n",
    "print(result)"
   ]
  }
 ],
 "metadata": {
  "kernelspec": {
   "display_name": "Python 3",
   "language": "python",
   "name": "python3"
  },
  "language_info": {
   "codemirror_mode": {
    "name": "ipython",
    "version": 3
   },
   "file_extension": ".py",
   "mimetype": "text/x-python",
   "name": "python",
   "nbconvert_exporter": "python",
   "pygments_lexer": "ipython3",
   "version": "3.12.2"
  }
 },
 "nbformat": 4,
 "nbformat_minor": 2
}
