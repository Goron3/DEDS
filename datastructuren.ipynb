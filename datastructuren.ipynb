{
 "cells": [
  {
   "cell_type": "code",
   "execution_count": 126,
   "metadata": {},
   "outputs": [
    {
     "data": {
      "text/plain": [
       "0.07354700028372463"
      ]
     },
     "execution_count": 126,
     "metadata": {},
     "output_type": "execute_result"
    }
   ],
   "source": [
    "import time\n",
    "start = time.perf_counter()\n",
    "character_frequency(\"29483750237483748374859473627\")\n",
    "endtime = time.perf_counter()\n",
    "executionTime = (endtime - start) * 1000\n",
    "executionTime"
   ]
  },
  {
   "cell_type": "code",
   "execution_count": 2,
   "metadata": {},
   "outputs": [
    {
     "data": {
      "text/plain": [
       "2"
      ]
     },
     "execution_count": 2,
     "metadata": {},
     "output_type": "execute_result"
    }
   ],
   "source": [
    "def linear_search(list, Target):\n",
    "    \n",
    "    for i in range(0,len(list), 1):\n",
    "        if(list[i] == Target):\n",
    "           return i + 1\n",
    "    \n",
    "linear_search(list = [0,3,6,7,2,3], Target = 3)"
   ]
  },
  {
   "cell_type": "code",
   "execution_count": 37,
   "metadata": {},
   "outputs": [
    {
     "data": {
      "text/plain": [
       "{'b': 1, 'a': 5, 'h': 1}"
      ]
     },
     "execution_count": 37,
     "metadata": {},
     "output_type": "execute_result"
    }
   ],
   "source": [
    "def character_frequency(text):\n",
    "    frequency = {}\n",
    "    for i in text:\n",
    "        if i in frequency:\n",
    "            frequency[i] += 1\n",
    "        else:\n",
    "            frequency[i] = 1\n",
    "    return frequency\n",
    "\n",
    "character_frequency(\"baaaaah\")"
   ]
  },
  {
   "cell_type": "code",
   "execution_count": 60,
   "metadata": {},
   "outputs": [
    {
     "name": "stdout",
     "output_type": "stream",
     "text": [
      "{'1': 1, '2': 3, '3': 1, '4': 2}\n"
     ]
    }
   ],
   "source": [
    "def frequency_counter(lst):\n",
    "    freq = {}\n",
    "    for element in lst:\n",
    "        if element in freq:\n",
    "            freq[element] += 1\n",
    "        else:\n",
    "            freq[element] = 1\n",
    "    return freq\n",
    "\n",
    "lst = [\"1\", \"2\", \"3\", \"2\", \"4\", \"2\", \"4\"]\n",
    "result = frequency_counter(lst)\n",
    "print(result)"
   ]
  }
 ],
 "metadata": {
  "kernelspec": {
   "display_name": "Python 3",
   "language": "python",
   "name": "python3"
  },
  "language_info": {
   "codemirror_mode": {
    "name": "ipython",
    "version": 3
   },
   "file_extension": ".py",
   "mimetype": "text/x-python",
   "name": "python",
   "nbconvert_exporter": "python",
   "pygments_lexer": "ipython3",
   "version": "3.10.13"
  }
 },
 "nbformat": 4,
 "nbformat_minor": 2
}
