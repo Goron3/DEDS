{
 "cells": [
  {
   "cell_type": "code",
   "execution_count": null,
   "metadata": {},
   "outputs": [],
   "source": [
    "import pandas as pd\n",
    "import warnings\n",
    "import numpy as np\n",
    "warnings.simplefilter('ignore')\n",
    "import sqlite3\n",
    "from mlxtend.frequent_patterns import apriori, association_rules \n",
    "go_sales_connect = sqlite3.connect('go_sales.sqlite')"
   ]
  },
  {
   "cell_type": "code",
   "execution_count": null,
   "metadata": {},
   "outputs": [],
   "source": [
    "df = pd.read_sql_query(\"SELECT ORDER_NUMBER, PRODUCT_NUMBER from order_details order by ORDER_NUMBER desc\", go_sales_connect)\n",
    "df_filter = df.groupby('ORDER_NUMBER')['PRODUCT_NUMBER'].nunique()\n",
    "\n",
    "# Filter out ORDER_NUMBERs where count is greater than 1\n",
    "filtered_order_numbers = df_filter[df_filter > 1].index\n",
    "\n",
    "# Select rows where ORDER_NUMBER is in filtered list\n",
    "df_filtered = df[df['ORDER_NUMBER'].isin(filtered_order_numbers)]\n",
    "df_filtered\n"
   ]
  },
  {
   "cell_type": "code",
   "execution_count": null,
   "metadata": {},
   "outputs": [],
   "source": []
  }
 ],
 "metadata": {
  "kernelspec": {
   "display_name": "Python 3",
   "language": "python",
   "name": "python3"
  },
  "language_info": {
   "codemirror_mode": {
    "name": "ipython",
    "version": 3
   },
   "file_extension": ".py",
   "mimetype": "text/x-python",
   "name": "python",
   "nbconvert_exporter": "python",
   "pygments_lexer": "ipython3",
   "version": "3.12.2"
  }
 },
 "nbformat": 4,
 "nbformat_minor": 2
}
