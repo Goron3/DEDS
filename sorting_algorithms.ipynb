{
 "cells": [
  {
   "cell_type": "code",
   "execution_count": 176,
   "metadata": {},
   "outputs": [],
   "source": [
    "import random\n"
   ]
  },
  {
   "cell_type": "code",
   "execution_count": 229,
   "metadata": {},
   "outputs": [
    {
     "data": {
      "text/plain": [
       "[1, 9, 7, 2, 1, 9, 2, 8, 9, 3, 1, 5, 8, 4, 5, 9, 1, 4, 5, 5]"
      ]
     },
     "execution_count": 229,
     "metadata": {},
     "output_type": "execute_result"
    }
   ],
   "source": [
    "def random_20():\n",
    "    array = [0] * 20\n",
    "    for i in range(0, 20, 1):\n",
    "        random_number = str(random.random())\n",
    "        \n",
    "        array[i] = int(random_number[5:6])\n",
    "\n",
    "    return array\n",
    "\n",
    "def random_0to19():\n",
    "    num = random_1()\n",
    "    if(random_1() >= 5):\n",
    "         return num + 10\n",
    "    else:\n",
    "         return num\n",
    "         \n",
    "\n",
    "def random_10():\n",
    "    array = [0] * 10\n",
    "    for i in range(0, 10, 1):\n",
    "        random_number = str(random.random())\n",
    "        \n",
    "        array[i] = int(random_number[5:6])\n",
    "\n",
    "    return array\n",
    "    \n",
    "\n",
    "array = random_20()\n",
    "array\n",
    "\n",
    "def random_1():\n",
    "        random_number = str(random.random())  \n",
    "        return int(random_number[5:6])\n",
    "\n",
    "random_20()"
   ]
  },
  {
   "cell_type": "code",
   "execution_count": 238,
   "metadata": {},
   "outputs": [
    {
     "data": {
      "text/plain": [
       "[0, 0, 1, 1, 1, 1, 2, 2, 3, 3, 3, 4, 5, 6, 6, 7, 7, 8, 9, 9]"
      ]
     },
     "execution_count": 238,
     "metadata": {},
     "output_type": "execute_result"
    }
   ],
   "source": [
    "array = random_20()\n",
    "\n",
    "def counting_sort(array):\n",
    "    count = [0] * 10\n",
    "    for num in array:\n",
    "        count[num] += 1\n",
    "\n",
    "    for i in range(1, 10):\n",
    "        count[i] += count[i - 1]\n",
    "\n",
    "    output = [0] * len(array)\n",
    "\n",
    "    i = len(array) - 1\n",
    "    while i >= 0:\n",
    "        output[count[array[i]] - 1] = array[i]\n",
    "        count[array[i]] -= 1\n",
    "        i -= 1\n",
    "\n",
    "    return output\n",
    "\n",
    "counting_sort(array)\n",
    "\n",
    "\n",
    "\n",
    "\n"
   ]
  },
  {
   "cell_type": "code",
   "execution_count": 253,
   "metadata": {},
   "outputs": [
    {
     "ename": "KeyboardInterrupt",
     "evalue": "",
     "output_type": "error",
     "traceback": [
      "\u001b[0;31m---------------------------------------------------------------------------\u001b[0m",
      "\u001b[0;31mKeyboardInterrupt\u001b[0m                         Traceback (most recent call last)",
      "Cell \u001b[0;32mIn[253], line 15\u001b[0m\n\u001b[1;32m     12\u001b[0m \u001b[38;5;28;01mdef\u001b[39;00m \u001b[38;5;21mis_sorted\u001b[39m(array):\n\u001b[1;32m     13\u001b[0m     \u001b[38;5;28;01mreturn\u001b[39;00m \u001b[38;5;28mall\u001b[39m(array[i] \u001b[38;5;241m<\u001b[39m\u001b[38;5;241m=\u001b[39m array[i\u001b[38;5;241m+\u001b[39m\u001b[38;5;241m1\u001b[39m] \u001b[38;5;28;01mfor\u001b[39;00m i \u001b[38;5;129;01min\u001b[39;00m \u001b[38;5;28mrange\u001b[39m(\u001b[38;5;28mlen\u001b[39m(array)\u001b[38;5;241m-\u001b[39m\u001b[38;5;241m1\u001b[39m))\n\u001b[0;32m---> 15\u001b[0m \u001b[43mtering_sort\u001b[49m\u001b[43m(\u001b[49m\u001b[43marray\u001b[49m\u001b[43m)\u001b[49m\n",
      "Cell \u001b[0;32mIn[253], line 6\u001b[0m, in \u001b[0;36mtering_sort\u001b[0;34m(array)\u001b[0m\n\u001b[1;32m      4\u001b[0m \u001b[38;5;28;01mwhile\u001b[39;00m \u001b[38;5;129;01mnot\u001b[39;00m is_sorted(array):\n\u001b[1;32m      5\u001b[0m     index1 \u001b[38;5;241m=\u001b[39m random_0to19()\n\u001b[0;32m----> 6\u001b[0m     index2 \u001b[38;5;241m=\u001b[39m \u001b[43mrandom_0to19\u001b[49m\u001b[43m(\u001b[49m\u001b[43m)\u001b[49m\n\u001b[1;32m      7\u001b[0m     temp \u001b[38;5;241m=\u001b[39m array[index1]\n\u001b[1;32m      8\u001b[0m     array[index1] \u001b[38;5;241m=\u001b[39m array[index2]\n",
      "Cell \u001b[0;32mIn[229], line 12\u001b[0m, in \u001b[0;36mrandom_0to19\u001b[0;34m()\u001b[0m\n\u001b[1;32m     10\u001b[0m \u001b[38;5;28;01mdef\u001b[39;00m \u001b[38;5;21mrandom_0to19\u001b[39m():\n\u001b[1;32m     11\u001b[0m     num \u001b[38;5;241m=\u001b[39m random_1()\n\u001b[0;32m---> 12\u001b[0m     \u001b[38;5;28;01mif\u001b[39;00m(\u001b[43mrandom_1\u001b[49m\u001b[43m(\u001b[49m\u001b[43m)\u001b[49m \u001b[38;5;241m>\u001b[39m\u001b[38;5;241m=\u001b[39m \u001b[38;5;241m5\u001b[39m):\n\u001b[1;32m     13\u001b[0m          \u001b[38;5;28;01mreturn\u001b[39;00m num \u001b[38;5;241m+\u001b[39m \u001b[38;5;241m10\u001b[39m\n\u001b[1;32m     14\u001b[0m     \u001b[38;5;28;01melse\u001b[39;00m:\n",
      "Cell \u001b[0;32mIn[229], line 33\u001b[0m, in \u001b[0;36mrandom_1\u001b[0;34m()\u001b[0m\n\u001b[1;32m     31\u001b[0m \u001b[38;5;28;01mdef\u001b[39;00m \u001b[38;5;21mrandom_1\u001b[39m():\n\u001b[1;32m     32\u001b[0m         random_number \u001b[38;5;241m=\u001b[39m \u001b[38;5;28mstr\u001b[39m(random\u001b[38;5;241m.\u001b[39mrandom())  \n\u001b[0;32m---> 33\u001b[0m         \u001b[38;5;28;01mreturn\u001b[39;00m \u001b[38;5;28;43mint\u001b[39;49m\u001b[43m(\u001b[49m\u001b[43mrandom_number\u001b[49m\u001b[43m[\u001b[49m\u001b[38;5;241;43m5\u001b[39;49m\u001b[43m:\u001b[49m\u001b[38;5;241;43m6\u001b[39;49m\u001b[43m]\u001b[49m\u001b[43m)\u001b[49m\n",
      "\u001b[0;31mKeyboardInterrupt\u001b[0m: "
     ]
    }
   ],
   "source": [
    "array = [0,0,0,0,0,0,0,0,0,0,0,0,0,0,0,1,6,2,1,3]\n",
    "\n",
    "def tering_sort(array):\n",
    "    while not is_sorted(array):\n",
    "        index1 = random_0to19()\n",
    "        index2 = random_0to19()\n",
    "        temp = array[index1]\n",
    "        array[index1] = array[index2]\n",
    "        array[index2] = temp\n",
    "    return array\n",
    "\n",
    "def is_sorted(array):\n",
    "    return all(array[i] <= array[i+1] for i in range(len(array)-1))\n",
    "\n",
    "tering_sort(array)\n",
    "\n",
    "\n",
    "\n"
   ]
  }
 ],
 "metadata": {
  "kernelspec": {
   "display_name": "Python 3",
   "language": "python",
   "name": "python3"
  },
  "language_info": {
   "codemirror_mode": {
    "name": "ipython",
    "version": 3
   },
   "file_extension": ".py",
   "mimetype": "text/x-python",
   "name": "python",
   "nbconvert_exporter": "python",
   "pygments_lexer": "ipython3",
   "version": "3.10.13"
  }
 },
 "nbformat": 4,
 "nbformat_minor": 2
}
