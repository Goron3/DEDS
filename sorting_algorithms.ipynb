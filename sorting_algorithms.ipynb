{
 "cells": [
  {
   "cell_type": "code",
   "execution_count": 176,
   "metadata": {},
   "outputs": [],
   "source": [
    "import random\n"
   ]
  },
  {
   "cell_type": "code",
   "execution_count": 215,
   "metadata": {},
   "outputs": [
    {
     "data": {
      "text/plain": [
       "0"
      ]
     },
     "execution_count": 215,
     "metadata": {},
     "output_type": "execute_result"
    }
   ],
   "source": [
    "def random_20():\n",
    "    array = [0,0,0,0,0,0,0,0,0,0,0,0,0,0,0,0,0,0,0,0] \n",
    "    for i in range(0, 20, 1):\n",
    "        random_number = str(random.random())\n",
    "        \n",
    "        array[i] = int(random_number[5:6])\n",
    "\n",
    "    return array\n",
    "\n",
    "def random_0to19():\n",
    "    num = random_1()\n",
    "    if(random_1() >= 5):\n",
    "         return num + 10\n",
    "    else:\n",
    "         return num\n",
    "         \n",
    "\n",
    "def random_10():\n",
    "    array = [0,0,0,0,0,0,0,0,0,0] \n",
    "    for i in range(0, 10, 1):\n",
    "        random_number = str(random.random())\n",
    "        \n",
    "        array[i] = int(random_number[5:6])\n",
    "\n",
    "    return array\n",
    "    \n",
    "\n",
    "array = random_20()\n",
    "array\n",
    "\n",
    "def random_1():\n",
    "        random_number = str(random.random())  \n",
    "        return int(random_number[5:6])\n",
    "\n",
    "random_0to19()"
   ]
  },
  {
   "cell_type": "code",
   "execution_count": 227,
   "metadata": {},
   "outputs": [
    {
     "data": {
      "text/plain": [
       "[0, 1, 1, 2, 2, 2, 2, 3, 4, 5, 5, 5, 6, 6, 6, 7, 8, 8, 9, 9]"
      ]
     },
     "execution_count": 227,
     "metadata": {},
     "output_type": "execute_result"
    }
   ],
   "source": [
    "array = random_20()\n",
    "\n",
    "def counting_sort(array):\n",
    "    count = [0] * 10\n",
    "    for num in array:\n",
    "        count[num] += 1\n",
    "\n",
    "    for i in range(1, 10):\n",
    "        count[i] += count[i - 1]\n",
    "\n",
    "    output = [0] * len(array)\n",
    "\n",
    "    i = len(array) - 1\n",
    "    while i >= 0:\n",
    "        output[count[array[i]] - 1] = array[i]\n",
    "        count[array[i]] -= 1\n",
    "        i -= 1\n",
    "\n",
    "    return output\n",
    "    \n",
    "\n",
    "\n",
    "counting_sort(array)\n",
    "\n",
    "\n",
    "\n",
    "\n",
    "\n",
    "\n"
   ]
  },
  {
   "cell_type": "code",
   "execution_count": 224,
   "metadata": {},
   "outputs": [
    {
     "data": {
      "text/plain": [
       "[0, 0, 0, 0, 0, 0, 0, 0, 0, 0, 0, 0, 0, 0, 2, 3, 4, 10, 10, 16]"
      ]
     },
     "execution_count": 224,
     "metadata": {},
     "output_type": "execute_result"
    }
   ],
   "source": [
    "array = random_20\n",
    "\n",
    "def tering_sort(array):\n",
    "    while not is_sorted(array):\n",
    "        index1 = random_0to19()\n",
    "        index2 = random_0to19()\n",
    "        temp = array[index1]\n",
    "        array[index1] = array[index2]\n",
    "        array[index2] = temp\n",
    "    return array\n",
    "\n",
    "def is_sorted(array):\n",
    "    return all(array[i] <= array[i+1] for i in range(len(array)-1))\n",
    "\n",
    "tering_sort(array)\n",
    "\n",
    "\n",
    "\n"
   ]
  }
 ],
 "metadata": {
  "kernelspec": {
   "display_name": "Python 3",
   "language": "python",
   "name": "python3"
  },
  "language_info": {
   "codemirror_mode": {
    "name": "ipython",
    "version": 3
   },
   "file_extension": ".py",
   "mimetype": "text/x-python",
   "name": "python",
   "nbconvert_exporter": "python",
   "pygments_lexer": "ipython3",
   "version": "3.10.13"
  }
 },
 "nbformat": 4,
 "nbformat_minor": 2
}
