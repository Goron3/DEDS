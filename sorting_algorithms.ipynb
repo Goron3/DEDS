{
 "cells": [
  {
   "cell_type": "code",
   "execution_count": 60,
   "metadata": {},
   "outputs": [],
   "source": [
    "import random\n"
   ]
  },
  {
   "cell_type": "code",
   "execution_count": 64,
   "metadata": {},
   "outputs": [
    {
     "data": {
      "text/plain": [
       "['7',\n",
       " '9',\n",
       " '6',\n",
       " '3',\n",
       " '6',\n",
       " '3',\n",
       " '5',\n",
       " '0',\n",
       " '2',\n",
       " '3',\n",
       " '7',\n",
       " '5',\n",
       " '7',\n",
       " '7',\n",
       " '4',\n",
       " '4',\n",
       " '4',\n",
       " '2',\n",
       " '9',\n",
       " '0']"
      ]
     },
     "execution_count": 64,
     "metadata": {},
     "output_type": "execute_result"
    }
   ],
   "source": [
    "def random_20():\n",
    "    array = [0,0,0,0,0,0,0,0,0,0,0,0,0,0,0,0,0,0,0,0] \n",
    "    for i in range(0, 20, 1):\n",
    "        random_number = str(random.random())\n",
    "        array[i] = random_number[5:6]\n",
    "\n",
    "    return array\n",
    "    \n",
    "\n",
    "array = random_20()\n",
    "array\n"
   ]
  },
  {
   "cell_type": "code",
   "execution_count": null,
   "metadata": {},
   "outputs": [],
   "source": [
    "\n",
    "\n",
    "\n",
    "\n",
    "\n",
    "\n",
    "\n",
    "\n",
    "\n",
    "\n",
    "\n",
    "\n",
    "\n",
    "\n",
    "\n",
    "\n",
    "\n",
    "\n",
    "\n",
    "\n",
    "\n",
    "\n",
    "\n",
    "\n"
   ]
  },
  {
   "cell_type": "code",
   "execution_count": 63,
   "metadata": {},
   "outputs": [],
   "source": [
    "def tering_sort(array):\n",
    "    \n",
    "\n",
    "\n",
    "\n",
    "\n",
    "array = random_20()\n",
    "array\n",
    "tering_sort(array)"
   ]
  }
 ],
 "metadata": {
  "kernelspec": {
   "display_name": "Python 3",
   "language": "python",
   "name": "python3"
  },
  "language_info": {
   "codemirror_mode": {
    "name": "ipython",
    "version": 3
   },
   "file_extension": ".py",
   "mimetype": "text/x-python",
   "name": "python",
   "nbconvert_exporter": "python",
   "pygments_lexer": "ipython3",
   "version": "3.10.13"
  }
 },
 "nbformat": 4,
 "nbformat_minor": 2
}
