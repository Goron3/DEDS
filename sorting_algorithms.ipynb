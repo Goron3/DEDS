{
 "cells": [
  {
   "cell_type": "code",
   "execution_count": 1,
   "metadata": {},
   "outputs": [],
   "source": [
    "import random\n",
    "import timeit"
   ]
  },
  {
   "cell_type": "code",
   "execution_count": 2,
   "metadata": {},
   "outputs": [
    {
     "data": {
      "text/plain": [
       "[7, 4, 3, 8, 0, 5, 6, 1, 1, 1, 8, 0, 9, 5, 8, 0, 0, 5, 5, 5]"
      ]
     },
     "execution_count": 2,
     "metadata": {},
     "output_type": "execute_result"
    }
   ],
   "source": [
    "\n",
    "def random_20():\n",
    "    array = [0] * 20\n",
    "    for i in range(0, 20, 1):\n",
    "        random_number = str(random.random())\n",
    "\n",
    "        array[i] = int(random_number[5:6])\n",
    "\n",
    "    return array\n",
    "\n",
    "def random_0to19():\n",
    "    num = random_1()\n",
    "    if(random_1() >= 5):\n",
    "         return num + 10\n",
    "    else:\n",
    "         return num\n",
    "\n",
    "\n",
    "def random_10():\n",
    "    array = [0] * 10\n",
    "    for i in range(0, 10, 1):\n",
    "        random_number = str(random.random())\n",
    "\n",
    "        array[i] = int(random_number[5:6])\n",
    "\n",
    "    return array\n",
    "\n",
    "\n",
    "array = random_20()\n",
    "array\n",
    "\n",
    "def random_1():\n",
    "        random_number = str(random.random())\n",
    "        return int(random_number[5:6])\n",
    "\n",
    "random_20()\n"
   ]
  },
  {
   "cell_type": "code",
   "execution_count": 11,
   "metadata": {},
   "outputs": [
    {
     "name": "stdout",
     "output_type": "stream",
     "text": [
      "0.17748219900022377\n"
     ]
    }
   ],
   "source": [
    "array = random_20()\n",
    "\n",
    "def selection_sort(array):\n",
    "    lenght = len(array)\n",
    "    \n",
    "    for i in range(lenght):\n",
    "        min_index = i\n",
    "        for j in range(i+1, lenght):\n",
    "            if array[j] < array[min_index]:\n",
    "                min_index = j\n",
    "                \n",
    "        array[i], array[min_index] = array[min_index], array[i]\n",
    "    \n",
    "    return array\n",
    "\n",
    "selection_sort(array)\n",
    "print(timeit.timeit(\"selection_sort(array)\", setup=\"from __main__ import selection_sort, array\", number=10000))"
   ]
  },
  {
   "cell_type": "code",
   "execution_count": 9,
   "metadata": {},
   "outputs": [
    {
     "name": "stdout",
     "output_type": "stream",
     "text": [
      "[1, 1, 1, 2, 2, 2, 2, 3, 3, 4, 4, 4, 5, 6, 7, 7, 7, 8, 9, 9]\n",
      "0.20747703400047612\n"
     ]
    }
   ],
   "source": [
    "array = random_20()\n",
    "\n",
    "def bubbleSort(arr):\n",
    "    size = len(arr)\n",
    "    for i in range(size):\n",
    "        for j in range(0, size - i - 1):\n",
    "            if arr[j] > arr[j + 1]:\n",
    "                arr[j], arr[j + 1] = arr[j + 1], arr[j]\n",
    "    return arr\n",
    "\n",
    "print(bubbleSort(array))\n",
    "if __name__ == \"__main__\":\n",
    "    print(timeit.timeit(\"bubbleSort(array)\", setup=\"from __main__ import bubbleSort, array\", number=10000))"
   ]
  },
  {
   "cell_type": "code",
   "execution_count": 12,
   "metadata": {},
   "outputs": [],
   "source": [
    "array = [0,0,0,0,0,0,0,0,0,0,0,0,0,0,0,7,3,2,1,2]\n",
    "\n",
    "def tering_sort(array):\n",
    "    while not is_sorted(array):\n",
    "        index1 = random_0to19()\n",
    "        index2 = random_0to19()\n",
    "        temp = array[index1]\n",
    "        array[index1] = array[index2]\n",
    "        array[index2] = temp\n",
    "    return array\n",
    "\n",
    "def is_sorted(array):\n",
    "    return all(array[i] <= array[i+1] for i in range(len(array)-1))\n",
    "\n",
    "print(tering_sort(array))\n",
    "if __name__ == \"__main__\":\n",
    "    print(timeit.timeit(\"tering_sort(array)\", setup=\"from __main__ import tering_sort, array\", number=1))"
   ]
  }
 ],
 "metadata": {
  "kernelspec": {
   "display_name": "Python 3",
   "language": "python",
   "name": "python3"
  },
  "language_info": {
   "codemirror_mode": {
    "name": "ipython",
    "version": 3
   },
   "file_extension": ".py",
   "mimetype": "text/x-python",
   "name": "python",
   "nbconvert_exporter": "python",
   "pygments_lexer": "ipython3",
   "version": "3.10.13"
  }
 },
 "nbformat": 4,
 "nbformat_minor": 2
}
