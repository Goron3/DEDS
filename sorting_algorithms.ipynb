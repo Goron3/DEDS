{
 "cells": [
  {
   "cell_type": "code",
   "execution_count": 33,
   "metadata": {},
   "outputs": [],
   "source": [
    "import random\n",
    "import timeit"
   ]
  },
  {
   "cell_type": "code",
   "execution_count": 34,
   "metadata": {},
   "outputs": [
    {
     "data": {
      "text/plain": [
       "[4, 7, 5, 5, 6, 5, 0, 1, 1, 9, 4, 6, 2, 1, 1, 6, 3, 3, 4, 8]"
      ]
     },
     "execution_count": 34,
     "metadata": {},
     "output_type": "execute_result"
    }
   ],
   "source": [
    "def random_20():\n",
    "    array = [0] * 20\n",
    "    for i in range(0, 20, 1):\n",
    "        random_number = str(random.random())\n",
    "\n",
    "        array[i] = int(random_number[5:6])\n",
    "\n",
    "    return array\n",
    "\n",
    "def random_0to19():\n",
    "    num = random_1()\n",
    "    if(random_1() >= 5):\n",
    "         return num + 10\n",
    "    else:\n",
    "         return num\n",
    "\n",
    "\n",
    "def random_10():\n",
    "    array = [0] * 10\n",
    "    for i in range(0, 10, 1):\n",
    "        random_number = str(random.random())\n",
    "\n",
    "        array[i] = int(random_number[5:6])\n",
    "\n",
    "    return array\n",
    "\n",
    "\n",
    "array = random_20()\n",
    "array\n",
    "\n",
    "def random_1():\n",
    "        random_number = str(random.random())\n",
    "        return int(random_number[5:6])\n",
    "\n",
    "random_20()\n"
   ]
  },
  {
   "cell_type": "code",
   "execution_count": 49,
   "metadata": {},
   "outputs": [
    {
     "name": "stdout",
     "output_type": "stream",
     "text": [
      "0.2876235998701304\n"
     ]
    }
   ],
   "source": [
    "\n",
    "array = random_20()\n",
    "\n",
    "def bubbleSort(arr):\n",
    "    size = len(arr)\n",
    "    for i in range(size):\n",
    "        for j in range(0, size - i - 1):\n",
    "            if arr[j] > arr[j + 1]:\n",
    "                arr[j], arr[j + 1] = arr[j + 1], arr[j]\n",
    "    return arr\n",
    "\n",
    "bubbleSort(array)\n",
    "print(timeit.timeit('\"-\".join(str(n) for n in range(100))', number=10000))"
   ]
  },
  {
   "cell_type": "code",
   "execution_count": 41,
   "metadata": {},
   "outputs": [
    {
     "name": "stdout",
     "output_type": "stream",
     "text": [
      "0.2159273000434041\n"
     ]
    }
   ],
   "source": [
    "array = random_20()\n",
    "\n",
    "def selection_sort(array):\n",
    "    lenght = len(array)\n",
    "\n",
    "    for i in range(lenght):\n",
    "        min_index = i\n",
    "        for j in range(i+1, lenght):\n",
    "            if array[j] < array[min_index]:\n",
    "                min_index = j\n",
    "\n",
    "        array[i], array[min_index] = array[min_index], array[i]\n",
    "\n",
    "    return array\n",
    "\n",
    "selection_sort(array)\n",
    "print(timeit.timeit('\"-\".join(str(n) for n in range(100))', number=10000))"
   ]
  },
  {
   "cell_type": "code",
   "execution_count": 37,
   "metadata": {},
   "outputs": [
    {
     "data": {
      "text/plain": [
       "[0, 0, 0, 0, 0, 1, 2, 3, 3, 3, 4, 4, 4, 6, 7, 7, 7, 8, 8, 9]"
      ]
     },
     "execution_count": 37,
     "metadata": {},
     "output_type": "execute_result"
    }
   ],
   "source": [
    "array = random_20()\n",
    "\n",
    "def counting_sort(array):\n",
    "    count = [0] * 10\n",
    "    for num in array:\n",
    "        count[num] += 1\n",
    "\n",
    "    for i in range(1, 10):\n",
    "        count[i] += count[i - 1]\n",
    "\n",
    "    output = [0] * len(array)\n",
    "\n",
    "    i = len(array) - 1\n",
    "    while i >= 0:\n",
    "        output[count[array[i]] - 1] = array[i]\n",
    "        count[array[i]] -= 1\n",
    "        i -= 1\n",
    "\n",
    "    return output\n",
    "\n",
    "counting_sort(array)\n",
    "\n"
   ]
  },
  {
   "cell_type": "code",
   "execution_count": 55,
   "metadata": {},
   "outputs": [
    {
     "name": "stdout",
     "output_type": "stream",
     "text": [
      "2.445999998599291e-06\n"
     ]
    }
   ],
   "source": [
    "array = [0,0,0,0,0,0,0,0,0,0,0,0,0,0,0,1,0,2,1,3]\n",
    "\n",
    "def tering_sort(array):\n",
    "    while not is_sorted(array):\n",
    "        index1 = random_0to19()\n",
    "        index2 = random_0to19()\n",
    "        temp = array[index1]\n",
    "        array[index1] = array[index2]\n",
    "        array[index2] = temp\n",
    "    return array\n",
    "\n",
    "def is_sorted(array):\n",
    "    return all(array[i] <= array[i+1] for i in range(len(array)-1))\n",
    "\n",
    "tering_sort(array)\n",
    "print(timeit.timeit('tering_sort(array)',setup=\"from __main__ import tering_sort, array\", number=100) / 100)"
   ]
  }
 ],
 "metadata": {
  "kernelspec": {
   "display_name": "Python 3",
   "language": "python",
   "name": "python3"
  },
  "language_info": {
   "codemirror_mode": {
    "name": "ipython",
    "version": 3
   },
   "file_extension": ".py",
   "mimetype": "text/x-python",
   "name": "python",
   "nbconvert_exporter": "python",
   "pygments_lexer": "ipython3",
   "version": "3.12.2"
  }
 },
 "nbformat": 4,
 "nbformat_minor": 2
}
